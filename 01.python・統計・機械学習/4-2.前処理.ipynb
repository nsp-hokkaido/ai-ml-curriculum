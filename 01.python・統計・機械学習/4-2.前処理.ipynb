{
 "cells": [
  {
   "cell_type": "markdown",
   "id": "89410a83",
   "metadata": {},
   "source": [
    "# 第四章\n",
    "## フリーデータを用いた実際の前処理\n",
    "本章では先に紹介したライブラリを使い、実際のデータに対して前処理を行います。  \n",
    "使用するデータは歴史的にも有名な難破船タイタニック号への乗客者の生存状況を示す表形式のデータです。  \n",
    "タイタニック号が沈没しても生還した乗客が一定数いましたが、とあるグループの人々は他のグループよりも  \n",
    "生還した可能性が高かったようです。  \n",
    "このデータからどのような人々が生還した可能性が高いのか予測をするために前処理を実践していきます。  \n",
    "\n",
    "## 前処理とは\n",
    "データ分析を行う際にそのデータ自体が整備されておらず、抜け漏れや不整合があると分析結果に隔たりが出てしまい品質の低下を招きます。  \n",
    "また機械学習をする際にもデータにNullが存在する、数値型以外のデータ型があると処理ができないなどの場合もありデータ加工が必要になります。  \n",
    "前処理には予め決められた処理順序や手段はないため、データを観察して特性を把握し変数同士の相関や値の分布を可視化、  \n",
    "データに応じた加工をすることが求められます。\n",
    "よって、本演習では実際の前処理の一例として紹介するものになります。\n",
    "\n",
    "### フリーデータのセット\n",
    "はじめに必要なライブラリをインポートします。"
   ]
  },
  {
   "cell_type": "code",
   "execution_count": 1,
   "id": "7bf106ee",
   "metadata": {},
   "outputs": [],
   "source": [
    "import pandas as pd  \n",
    "import numpy as np  \n",
    "import matplotlib.pyplot as plt  \n",
    "import seaborn as sns  "
   ]
  },
  {
   "cell_type": "markdown",
   "id": "7e334624",
   "metadata": {},
   "source": [
    "インポートしたPythonのデータライブラリであるseabornからtitanicのデータを読み込みます。"
   ]
  },
  {
   "cell_type": "code",
   "execution_count": 2,
   "id": "6912360b",
   "metadata": {},
   "outputs": [],
   "source": [
    "titanic = sns.load_dataset('titanic')"
   ]
  },
  {
   "cell_type": "markdown",
   "id": "3ff5f6f2",
   "metadata": {},
   "source": [
    "本演習では一部カラムは使用しないため予め除外しておきます。"
   ]
  },
  {
   "cell_type": "code",
   "execution_count": 3,
   "id": "f2ffea3f",
   "metadata": {},
   "outputs": [],
   "source": [
    "titanic = sns.load_dataset('titanic')\n",
    "titanic = titanic.drop(['class','who','embark_town','alive','alone'], axis=1)"
   ]
  },
  {
   "cell_type": "markdown",
   "id": "3402e6b4",
   "metadata": {},
   "source": [
    "### データ内の各変数説明\n",
    "survived --- 生還フラグ(1:生存、0:死亡)  \n",
    "pclass --- チケット等級  \n",
    "sex --- 性別(male、female)  \n",
    "age --- 年齢  \n",
    "sibsp --- 同乗している兄弟または配偶者の数  \n",
    "parch --- 同乗している親または子の数  \n",
    "fare --- チケット料金  \n",
    "embarked --- 乗船した港  \n",
    "adult_male --- 成人男性であるかどうか(True:成人男性、False:成人男性以外)  \n",
    "deck --- 乗船デッキ  "
   ]
  },
  {
   "cell_type": "markdown",
   "id": "cffee56c",
   "metadata": {},
   "source": [
    "### データの観察\n",
    "扱うデータの準備ができたので、まずはデータを加工するためにデータを観察します。  \n",
    "これまでの章でも説明してきたグラフによる可視化や欠損値への対処などいずれの処理をするにも  \n",
    "データの規模、データ型、重複した情報の有無など様々なことを考慮する必要があります。  \n",
    "従って、様々な視点でデータを観察していきます。  \n",
    "\n",
    "#### 行、列数の確認\n",
    "セットしたデータフレーム名を指定するだけでデータの中身の抜粋と行列数を確認できます。  \n",
    "行列数のみを確認するにはshapeを使います。"
   ]
  },
  {
   "cell_type": "code",
   "execution_count": 4,
   "id": "9efeb2ae",
   "metadata": {
    "scrolled": true
   },
   "outputs": [
    {
     "data": {
      "text/html": [
       "<div>\n",
       "<style scoped>\n",
       "    .dataframe tbody tr th:only-of-type {\n",
       "        vertical-align: middle;\n",
       "    }\n",
       "\n",
       "    .dataframe tbody tr th {\n",
       "        vertical-align: top;\n",
       "    }\n",
       "\n",
       "    .dataframe thead th {\n",
       "        text-align: right;\n",
       "    }\n",
       "</style>\n",
       "<table border=\"1\" class=\"dataframe\">\n",
       "  <thead>\n",
       "    <tr style=\"text-align: right;\">\n",
       "      <th></th>\n",
       "      <th>survived</th>\n",
       "      <th>pclass</th>\n",
       "      <th>sex</th>\n",
       "      <th>age</th>\n",
       "      <th>sibsp</th>\n",
       "      <th>parch</th>\n",
       "      <th>fare</th>\n",
       "      <th>embarked</th>\n",
       "      <th>adult_male</th>\n",
       "      <th>deck</th>\n",
       "    </tr>\n",
       "  </thead>\n",
       "  <tbody>\n",
       "    <tr>\n",
       "      <th>0</th>\n",
       "      <td>0</td>\n",
       "      <td>3</td>\n",
       "      <td>male</td>\n",
       "      <td>22.0</td>\n",
       "      <td>1</td>\n",
       "      <td>0</td>\n",
       "      <td>7.2500</td>\n",
       "      <td>S</td>\n",
       "      <td>True</td>\n",
       "      <td>NaN</td>\n",
       "    </tr>\n",
       "    <tr>\n",
       "      <th>1</th>\n",
       "      <td>1</td>\n",
       "      <td>1</td>\n",
       "      <td>female</td>\n",
       "      <td>38.0</td>\n",
       "      <td>1</td>\n",
       "      <td>0</td>\n",
       "      <td>71.2833</td>\n",
       "      <td>C</td>\n",
       "      <td>False</td>\n",
       "      <td>C</td>\n",
       "    </tr>\n",
       "    <tr>\n",
       "      <th>2</th>\n",
       "      <td>1</td>\n",
       "      <td>3</td>\n",
       "      <td>female</td>\n",
       "      <td>26.0</td>\n",
       "      <td>0</td>\n",
       "      <td>0</td>\n",
       "      <td>7.9250</td>\n",
       "      <td>S</td>\n",
       "      <td>False</td>\n",
       "      <td>NaN</td>\n",
       "    </tr>\n",
       "    <tr>\n",
       "      <th>3</th>\n",
       "      <td>1</td>\n",
       "      <td>1</td>\n",
       "      <td>female</td>\n",
       "      <td>35.0</td>\n",
       "      <td>1</td>\n",
       "      <td>0</td>\n",
       "      <td>53.1000</td>\n",
       "      <td>S</td>\n",
       "      <td>False</td>\n",
       "      <td>C</td>\n",
       "    </tr>\n",
       "    <tr>\n",
       "      <th>4</th>\n",
       "      <td>0</td>\n",
       "      <td>3</td>\n",
       "      <td>male</td>\n",
       "      <td>35.0</td>\n",
       "      <td>0</td>\n",
       "      <td>0</td>\n",
       "      <td>8.0500</td>\n",
       "      <td>S</td>\n",
       "      <td>True</td>\n",
       "      <td>NaN</td>\n",
       "    </tr>\n",
       "    <tr>\n",
       "      <th>...</th>\n",
       "      <td>...</td>\n",
       "      <td>...</td>\n",
       "      <td>...</td>\n",
       "      <td>...</td>\n",
       "      <td>...</td>\n",
       "      <td>...</td>\n",
       "      <td>...</td>\n",
       "      <td>...</td>\n",
       "      <td>...</td>\n",
       "      <td>...</td>\n",
       "    </tr>\n",
       "    <tr>\n",
       "      <th>886</th>\n",
       "      <td>0</td>\n",
       "      <td>2</td>\n",
       "      <td>male</td>\n",
       "      <td>27.0</td>\n",
       "      <td>0</td>\n",
       "      <td>0</td>\n",
       "      <td>13.0000</td>\n",
       "      <td>S</td>\n",
       "      <td>True</td>\n",
       "      <td>NaN</td>\n",
       "    </tr>\n",
       "    <tr>\n",
       "      <th>887</th>\n",
       "      <td>1</td>\n",
       "      <td>1</td>\n",
       "      <td>female</td>\n",
       "      <td>19.0</td>\n",
       "      <td>0</td>\n",
       "      <td>0</td>\n",
       "      <td>30.0000</td>\n",
       "      <td>S</td>\n",
       "      <td>False</td>\n",
       "      <td>B</td>\n",
       "    </tr>\n",
       "    <tr>\n",
       "      <th>888</th>\n",
       "      <td>0</td>\n",
       "      <td>3</td>\n",
       "      <td>female</td>\n",
       "      <td>NaN</td>\n",
       "      <td>1</td>\n",
       "      <td>2</td>\n",
       "      <td>23.4500</td>\n",
       "      <td>S</td>\n",
       "      <td>False</td>\n",
       "      <td>NaN</td>\n",
       "    </tr>\n",
       "    <tr>\n",
       "      <th>889</th>\n",
       "      <td>1</td>\n",
       "      <td>1</td>\n",
       "      <td>male</td>\n",
       "      <td>26.0</td>\n",
       "      <td>0</td>\n",
       "      <td>0</td>\n",
       "      <td>30.0000</td>\n",
       "      <td>C</td>\n",
       "      <td>True</td>\n",
       "      <td>C</td>\n",
       "    </tr>\n",
       "    <tr>\n",
       "      <th>890</th>\n",
       "      <td>0</td>\n",
       "      <td>3</td>\n",
       "      <td>male</td>\n",
       "      <td>32.0</td>\n",
       "      <td>0</td>\n",
       "      <td>0</td>\n",
       "      <td>7.7500</td>\n",
       "      <td>Q</td>\n",
       "      <td>True</td>\n",
       "      <td>NaN</td>\n",
       "    </tr>\n",
       "  </tbody>\n",
       "</table>\n",
       "<p>891 rows × 10 columns</p>\n",
       "</div>"
      ],
      "text/plain": [
       "     survived  pclass     sex   age  sibsp  parch     fare embarked  \\\n",
       "0           0       3    male  22.0      1      0   7.2500        S   \n",
       "1           1       1  female  38.0      1      0  71.2833        C   \n",
       "2           1       3  female  26.0      0      0   7.9250        S   \n",
       "3           1       1  female  35.0      1      0  53.1000        S   \n",
       "4           0       3    male  35.0      0      0   8.0500        S   \n",
       "..        ...     ...     ...   ...    ...    ...      ...      ...   \n",
       "886         0       2    male  27.0      0      0  13.0000        S   \n",
       "887         1       1  female  19.0      0      0  30.0000        S   \n",
       "888         0       3  female   NaN      1      2  23.4500        S   \n",
       "889         1       1    male  26.0      0      0  30.0000        C   \n",
       "890         0       3    male  32.0      0      0   7.7500        Q   \n",
       "\n",
       "     adult_male deck  \n",
       "0          True  NaN  \n",
       "1         False    C  \n",
       "2         False  NaN  \n",
       "3         False    C  \n",
       "4          True  NaN  \n",
       "..          ...  ...  \n",
       "886        True  NaN  \n",
       "887       False    B  \n",
       "888       False  NaN  \n",
       "889        True    C  \n",
       "890        True  NaN  \n",
       "\n",
       "[891 rows x 10 columns]"
      ]
     },
     "execution_count": 4,
     "metadata": {},
     "output_type": "execute_result"
    }
   ],
   "source": [
    "titanic"
   ]
  },
  {
   "cell_type": "code",
   "execution_count": 5,
   "id": "42a54bbd",
   "metadata": {},
   "outputs": [
    {
     "data": {
      "text/plain": [
       "(891, 10)"
      ]
     },
     "execution_count": 5,
     "metadata": {},
     "output_type": "execute_result"
    }
   ],
   "source": [
    "titanic.shape"
   ]
  },
  {
   "cell_type": "markdown",
   "id": "932fcad0",
   "metadata": {},
   "source": [
    "#### データ型の確認\n",
    "info()を使うことでデータ型と各列のデータが欠損していない数を確認できます。   \n",
    "列ごとのデータ型のみを確認するにはdtypesを使います。  "
   ]
  },
  {
   "cell_type": "code",
   "execution_count": 7,
   "id": "cfb4c31c",
   "metadata": {
    "scrolled": false
   },
   "outputs": [
    {
     "name": "stdout",
     "output_type": "stream",
     "text": [
      "<class 'pandas.core.frame.DataFrame'>\n",
      "RangeIndex: 891 entries, 0 to 890\n",
      "Data columns (total 10 columns):\n",
      " #   Column      Non-Null Count  Dtype   \n",
      "---  ------      --------------  -----   \n",
      " 0   survived    891 non-null    int64   \n",
      " 1   pclass      891 non-null    int64   \n",
      " 2   sex         891 non-null    object  \n",
      " 3   age         714 non-null    float64 \n",
      " 4   sibsp       891 non-null    int64   \n",
      " 5   parch       891 non-null    int64   \n",
      " 6   fare        891 non-null    float64 \n",
      " 7   embarked    889 non-null    object  \n",
      " 8   adult_male  891 non-null    bool    \n",
      " 9   deck        203 non-null    category\n",
      "dtypes: bool(1), category(1), float64(2), int64(4), object(2)\n",
      "memory usage: 57.9+ KB\n"
     ]
    }
   ],
   "source": [
    "titanic.info()"
   ]
  },
  {
   "cell_type": "code",
   "execution_count": 8,
   "id": "2f7b950c",
   "metadata": {
    "scrolled": true
   },
   "outputs": [
    {
     "data": {
      "text/plain": [
       "survived         int64\n",
       "pclass           int64\n",
       "sex             object\n",
       "age            float64\n",
       "sibsp            int64\n",
       "parch            int64\n",
       "fare           float64\n",
       "embarked        object\n",
       "adult_male        bool\n",
       "deck          category\n",
       "dtype: object"
      ]
     },
     "execution_count": 8,
     "metadata": {},
     "output_type": "execute_result"
    }
   ],
   "source": [
    "titanic.dtypes"
   ]
  },
  {
   "cell_type": "markdown",
   "id": "fd619ad9",
   "metadata": {},
   "source": [
    "#### 統計量の確認\n",
    "Pandasのdescribe()メソッドを使いデータ全体の統計量を確認します。  \n",
    "describe()だけではintやfloatなどの数値型のみが表示されます。  "
   ]
  },
  {
   "cell_type": "code",
   "execution_count": 6,
   "id": "6410971b",
   "metadata": {
    "scrolled": false
   },
   "outputs": [
    {
     "data": {
      "text/html": [
       "<div>\n",
       "<style scoped>\n",
       "    .dataframe tbody tr th:only-of-type {\n",
       "        vertical-align: middle;\n",
       "    }\n",
       "\n",
       "    .dataframe tbody tr th {\n",
       "        vertical-align: top;\n",
       "    }\n",
       "\n",
       "    .dataframe thead th {\n",
       "        text-align: right;\n",
       "    }\n",
       "</style>\n",
       "<table border=\"1\" class=\"dataframe\">\n",
       "  <thead>\n",
       "    <tr style=\"text-align: right;\">\n",
       "      <th></th>\n",
       "      <th>survived</th>\n",
       "      <th>pclass</th>\n",
       "      <th>age</th>\n",
       "      <th>sibsp</th>\n",
       "      <th>parch</th>\n",
       "      <th>fare</th>\n",
       "    </tr>\n",
       "  </thead>\n",
       "  <tbody>\n",
       "    <tr>\n",
       "      <th>count</th>\n",
       "      <td>891.000000</td>\n",
       "      <td>891.000000</td>\n",
       "      <td>714.000000</td>\n",
       "      <td>891.000000</td>\n",
       "      <td>891.000000</td>\n",
       "      <td>891.000000</td>\n",
       "    </tr>\n",
       "    <tr>\n",
       "      <th>mean</th>\n",
       "      <td>0.383838</td>\n",
       "      <td>2.308642</td>\n",
       "      <td>29.699118</td>\n",
       "      <td>0.523008</td>\n",
       "      <td>0.381594</td>\n",
       "      <td>32.204208</td>\n",
       "    </tr>\n",
       "    <tr>\n",
       "      <th>std</th>\n",
       "      <td>0.486592</td>\n",
       "      <td>0.836071</td>\n",
       "      <td>14.526497</td>\n",
       "      <td>1.102743</td>\n",
       "      <td>0.806057</td>\n",
       "      <td>49.693429</td>\n",
       "    </tr>\n",
       "    <tr>\n",
       "      <th>min</th>\n",
       "      <td>0.000000</td>\n",
       "      <td>1.000000</td>\n",
       "      <td>0.420000</td>\n",
       "      <td>0.000000</td>\n",
       "      <td>0.000000</td>\n",
       "      <td>0.000000</td>\n",
       "    </tr>\n",
       "    <tr>\n",
       "      <th>25%</th>\n",
       "      <td>0.000000</td>\n",
       "      <td>2.000000</td>\n",
       "      <td>20.125000</td>\n",
       "      <td>0.000000</td>\n",
       "      <td>0.000000</td>\n",
       "      <td>7.910400</td>\n",
       "    </tr>\n",
       "    <tr>\n",
       "      <th>50%</th>\n",
       "      <td>0.000000</td>\n",
       "      <td>3.000000</td>\n",
       "      <td>28.000000</td>\n",
       "      <td>0.000000</td>\n",
       "      <td>0.000000</td>\n",
       "      <td>14.454200</td>\n",
       "    </tr>\n",
       "    <tr>\n",
       "      <th>75%</th>\n",
       "      <td>1.000000</td>\n",
       "      <td>3.000000</td>\n",
       "      <td>38.000000</td>\n",
       "      <td>1.000000</td>\n",
       "      <td>0.000000</td>\n",
       "      <td>31.000000</td>\n",
       "    </tr>\n",
       "    <tr>\n",
       "      <th>max</th>\n",
       "      <td>1.000000</td>\n",
       "      <td>3.000000</td>\n",
       "      <td>80.000000</td>\n",
       "      <td>8.000000</td>\n",
       "      <td>6.000000</td>\n",
       "      <td>512.329200</td>\n",
       "    </tr>\n",
       "  </tbody>\n",
       "</table>\n",
       "</div>"
      ],
      "text/plain": [
       "         survived      pclass         age       sibsp       parch        fare\n",
       "count  891.000000  891.000000  714.000000  891.000000  891.000000  891.000000\n",
       "mean     0.383838    2.308642   29.699118    0.523008    0.381594   32.204208\n",
       "std      0.486592    0.836071   14.526497    1.102743    0.806057   49.693429\n",
       "min      0.000000    1.000000    0.420000    0.000000    0.000000    0.000000\n",
       "25%      0.000000    2.000000   20.125000    0.000000    0.000000    7.910400\n",
       "50%      0.000000    3.000000   28.000000    0.000000    0.000000   14.454200\n",
       "75%      1.000000    3.000000   38.000000    1.000000    0.000000   31.000000\n",
       "max      1.000000    3.000000   80.000000    8.000000    6.000000  512.329200"
      ]
     },
     "execution_count": 6,
     "metadata": {},
     "output_type": "execute_result"
    }
   ],
   "source": [
    "titanic.describe()"
   ]
  },
  {
   "cell_type": "markdown",
   "id": "987e0b24",
   "metadata": {},
   "source": [
    "データ型に応じて取得できる統計が異なり、数値型では\"mean\"が平均値、\"std\"が標準偏差、\"50%\"が中央値など表示されます。  \n",
    "今後の予測の目的となるsurvived列の平均値は約0.38とあるので全体の約4割近くが生還したと考えられます。  \n",
    "age列の中央値が28、最小値が1以下、最大値が80と幅広い年齢層が乗船していたことが分かります。  \n",
    "また、fare列の最大値が約512と平均値の約32から大きく離れているので、fare列の値の扱いには注意が必要そうです。  \n",
    "数値型以外の統計量を表示するにはexclude='number'と指定します。"
   ]
  },
  {
   "cell_type": "code",
   "execution_count": 7,
   "id": "8b874b6b",
   "metadata": {
    "scrolled": true
   },
   "outputs": [
    {
     "data": {
      "text/html": [
       "<div>\n",
       "<style scoped>\n",
       "    .dataframe tbody tr th:only-of-type {\n",
       "        vertical-align: middle;\n",
       "    }\n",
       "\n",
       "    .dataframe tbody tr th {\n",
       "        vertical-align: top;\n",
       "    }\n",
       "\n",
       "    .dataframe thead th {\n",
       "        text-align: right;\n",
       "    }\n",
       "</style>\n",
       "<table border=\"1\" class=\"dataframe\">\n",
       "  <thead>\n",
       "    <tr style=\"text-align: right;\">\n",
       "      <th></th>\n",
       "      <th>sex</th>\n",
       "      <th>embarked</th>\n",
       "      <th>adult_male</th>\n",
       "      <th>deck</th>\n",
       "    </tr>\n",
       "  </thead>\n",
       "  <tbody>\n",
       "    <tr>\n",
       "      <th>count</th>\n",
       "      <td>891</td>\n",
       "      <td>889</td>\n",
       "      <td>891</td>\n",
       "      <td>203</td>\n",
       "    </tr>\n",
       "    <tr>\n",
       "      <th>unique</th>\n",
       "      <td>2</td>\n",
       "      <td>3</td>\n",
       "      <td>2</td>\n",
       "      <td>7</td>\n",
       "    </tr>\n",
       "    <tr>\n",
       "      <th>top</th>\n",
       "      <td>male</td>\n",
       "      <td>S</td>\n",
       "      <td>True</td>\n",
       "      <td>C</td>\n",
       "    </tr>\n",
       "    <tr>\n",
       "      <th>freq</th>\n",
       "      <td>577</td>\n",
       "      <td>644</td>\n",
       "      <td>537</td>\n",
       "      <td>59</td>\n",
       "    </tr>\n",
       "  </tbody>\n",
       "</table>\n",
       "</div>"
      ],
      "text/plain": [
       "         sex embarked adult_male deck\n",
       "count    891      889        891  203\n",
       "unique     2        3          2    7\n",
       "top     male        S       True    C\n",
       "freq     577      644        537   59"
      ]
     },
     "execution_count": 7,
     "metadata": {},
     "output_type": "execute_result"
    }
   ],
   "source": [
    "titanic.describe(exclude='number')"
   ]
  },
  {
   "cell_type": "markdown",
   "id": "2bf6c906",
   "metadata": {},
   "source": [
    "文字列型では平均値や標準偏差が計算できない代わりに、最頻値を示す\"top\"、その最頻値が出現する回数を示す\"freq\"などが表示されます。  \n",
    "sex列の最頻値maleが577回と、全体に対して約65%を占めているので男性の乗客の方が女性よりも多いことが分かります。  \n",
    "deck列はデータ数が203と少なく、欠損値が多いことが分かります。"
   ]
  },
  {
   "cell_type": "markdown",
   "id": "d553c550",
   "metadata": {},
   "source": [
    "#### 欠損値の確認\n",
    "Pandasのisnull()メソッドを使い各列の欠損値の個数を確認します。"
   ]
  },
  {
   "cell_type": "code",
   "execution_count": 8,
   "id": "296f84d7",
   "metadata": {
    "scrolled": false
   },
   "outputs": [
    {
     "data": {
      "text/plain": [
       "survived        0\n",
       "pclass          0\n",
       "sex             0\n",
       "age           177\n",
       "sibsp           0\n",
       "parch           0\n",
       "fare            0\n",
       "embarked        2\n",
       "adult_male      0\n",
       "deck          688\n",
       "dtype: int64"
      ]
     },
     "execution_count": 8,
     "metadata": {},
     "output_type": "execute_result"
    }
   ],
   "source": [
    "titanic.isnull().sum()"
   ]
  },
  {
   "cell_type": "markdown",
   "id": "2babdb80",
   "metadata": {},
   "source": [
    "isnull()メソッドによりデータフレームの要素が欠損値の場合はTrue、欠損していない場合はFalseとなります。  \n",
    "これにsum()を追加することで、欠損値「True」の数をカラム毎に集計したものが上記の結果です。"
   ]
  },
  {
   "cell_type": "code",
   "execution_count": 9,
   "id": "df44c4db",
   "metadata": {
    "scrolled": true
   },
   "outputs": [
    {
     "data": {
      "text/html": [
       "<div>\n",
       "<style scoped>\n",
       "    .dataframe tbody tr th:only-of-type {\n",
       "        vertical-align: middle;\n",
       "    }\n",
       "\n",
       "    .dataframe tbody tr th {\n",
       "        vertical-align: top;\n",
       "    }\n",
       "\n",
       "    .dataframe thead th {\n",
       "        text-align: right;\n",
       "    }\n",
       "</style>\n",
       "<table border=\"1\" class=\"dataframe\">\n",
       "  <thead>\n",
       "    <tr style=\"text-align: right;\">\n",
       "      <th></th>\n",
       "      <th>survived</th>\n",
       "      <th>pclass</th>\n",
       "      <th>sex</th>\n",
       "      <th>age</th>\n",
       "      <th>sibsp</th>\n",
       "      <th>parch</th>\n",
       "      <th>fare</th>\n",
       "      <th>embarked</th>\n",
       "      <th>adult_male</th>\n",
       "      <th>deck</th>\n",
       "    </tr>\n",
       "  </thead>\n",
       "  <tbody>\n",
       "    <tr>\n",
       "      <th>0</th>\n",
       "      <td>False</td>\n",
       "      <td>False</td>\n",
       "      <td>False</td>\n",
       "      <td>False</td>\n",
       "      <td>False</td>\n",
       "      <td>False</td>\n",
       "      <td>False</td>\n",
       "      <td>False</td>\n",
       "      <td>False</td>\n",
       "      <td>True</td>\n",
       "    </tr>\n",
       "    <tr>\n",
       "      <th>1</th>\n",
       "      <td>False</td>\n",
       "      <td>False</td>\n",
       "      <td>False</td>\n",
       "      <td>False</td>\n",
       "      <td>False</td>\n",
       "      <td>False</td>\n",
       "      <td>False</td>\n",
       "      <td>False</td>\n",
       "      <td>False</td>\n",
       "      <td>False</td>\n",
       "    </tr>\n",
       "    <tr>\n",
       "      <th>2</th>\n",
       "      <td>False</td>\n",
       "      <td>False</td>\n",
       "      <td>False</td>\n",
       "      <td>False</td>\n",
       "      <td>False</td>\n",
       "      <td>False</td>\n",
       "      <td>False</td>\n",
       "      <td>False</td>\n",
       "      <td>False</td>\n",
       "      <td>True</td>\n",
       "    </tr>\n",
       "    <tr>\n",
       "      <th>3</th>\n",
       "      <td>False</td>\n",
       "      <td>False</td>\n",
       "      <td>False</td>\n",
       "      <td>False</td>\n",
       "      <td>False</td>\n",
       "      <td>False</td>\n",
       "      <td>False</td>\n",
       "      <td>False</td>\n",
       "      <td>False</td>\n",
       "      <td>False</td>\n",
       "    </tr>\n",
       "    <tr>\n",
       "      <th>4</th>\n",
       "      <td>False</td>\n",
       "      <td>False</td>\n",
       "      <td>False</td>\n",
       "      <td>False</td>\n",
       "      <td>False</td>\n",
       "      <td>False</td>\n",
       "      <td>False</td>\n",
       "      <td>False</td>\n",
       "      <td>False</td>\n",
       "      <td>True</td>\n",
       "    </tr>\n",
       "    <tr>\n",
       "      <th>...</th>\n",
       "      <td>...</td>\n",
       "      <td>...</td>\n",
       "      <td>...</td>\n",
       "      <td>...</td>\n",
       "      <td>...</td>\n",
       "      <td>...</td>\n",
       "      <td>...</td>\n",
       "      <td>...</td>\n",
       "      <td>...</td>\n",
       "      <td>...</td>\n",
       "    </tr>\n",
       "    <tr>\n",
       "      <th>886</th>\n",
       "      <td>False</td>\n",
       "      <td>False</td>\n",
       "      <td>False</td>\n",
       "      <td>False</td>\n",
       "      <td>False</td>\n",
       "      <td>False</td>\n",
       "      <td>False</td>\n",
       "      <td>False</td>\n",
       "      <td>False</td>\n",
       "      <td>True</td>\n",
       "    </tr>\n",
       "    <tr>\n",
       "      <th>887</th>\n",
       "      <td>False</td>\n",
       "      <td>False</td>\n",
       "      <td>False</td>\n",
       "      <td>False</td>\n",
       "      <td>False</td>\n",
       "      <td>False</td>\n",
       "      <td>False</td>\n",
       "      <td>False</td>\n",
       "      <td>False</td>\n",
       "      <td>False</td>\n",
       "    </tr>\n",
       "    <tr>\n",
       "      <th>888</th>\n",
       "      <td>False</td>\n",
       "      <td>False</td>\n",
       "      <td>False</td>\n",
       "      <td>True</td>\n",
       "      <td>False</td>\n",
       "      <td>False</td>\n",
       "      <td>False</td>\n",
       "      <td>False</td>\n",
       "      <td>False</td>\n",
       "      <td>True</td>\n",
       "    </tr>\n",
       "    <tr>\n",
       "      <th>889</th>\n",
       "      <td>False</td>\n",
       "      <td>False</td>\n",
       "      <td>False</td>\n",
       "      <td>False</td>\n",
       "      <td>False</td>\n",
       "      <td>False</td>\n",
       "      <td>False</td>\n",
       "      <td>False</td>\n",
       "      <td>False</td>\n",
       "      <td>False</td>\n",
       "    </tr>\n",
       "    <tr>\n",
       "      <th>890</th>\n",
       "      <td>False</td>\n",
       "      <td>False</td>\n",
       "      <td>False</td>\n",
       "      <td>False</td>\n",
       "      <td>False</td>\n",
       "      <td>False</td>\n",
       "      <td>False</td>\n",
       "      <td>False</td>\n",
       "      <td>False</td>\n",
       "      <td>True</td>\n",
       "    </tr>\n",
       "  </tbody>\n",
       "</table>\n",
       "<p>891 rows × 10 columns</p>\n",
       "</div>"
      ],
      "text/plain": [
       "     survived  pclass    sex    age  sibsp  parch   fare  embarked  \\\n",
       "0       False   False  False  False  False  False  False     False   \n",
       "1       False   False  False  False  False  False  False     False   \n",
       "2       False   False  False  False  False  False  False     False   \n",
       "3       False   False  False  False  False  False  False     False   \n",
       "4       False   False  False  False  False  False  False     False   \n",
       "..        ...     ...    ...    ...    ...    ...    ...       ...   \n",
       "886     False   False  False  False  False  False  False     False   \n",
       "887     False   False  False  False  False  False  False     False   \n",
       "888     False   False  False   True  False  False  False     False   \n",
       "889     False   False  False  False  False  False  False     False   \n",
       "890     False   False  False  False  False  False  False     False   \n",
       "\n",
       "     adult_male   deck  \n",
       "0         False   True  \n",
       "1         False  False  \n",
       "2         False   True  \n",
       "3         False  False  \n",
       "4         False   True  \n",
       "..          ...    ...  \n",
       "886       False   True  \n",
       "887       False  False  \n",
       "888       False   True  \n",
       "889       False  False  \n",
       "890       False   True  \n",
       "\n",
       "[891 rows x 10 columns]"
      ]
     },
     "execution_count": 9,
     "metadata": {},
     "output_type": "execute_result"
    }
   ],
   "source": [
    "titanic.isnull()"
   ]
  },
  {
   "cell_type": "markdown",
   "id": "269ee755",
   "metadata": {},
   "source": [
    "deck列が全レコード数に対して8割近くの数が欠損していると確認できます。  \n",
    "age列も2割程度のレコードが欠損していますが、他の欠損値がある列も平均値や最頻値などで補完ができそうです。  \n",
    "  \n",
    "この後もデータ観察や可視化をしていきますが、その上で欠損値があると正しくデータの特徴を捉えることが難しくなるので  \n",
    "今回はdeck列を削除してしまい、分析対象から除外します。"
   ]
  },
  {
   "cell_type": "code",
   "execution_count": 10,
   "id": "c6206795",
   "metadata": {
    "scrolled": true
   },
   "outputs": [],
   "source": [
    "tita=titanic.drop([\"deck\"],axis=1)"
   ]
  },
  {
   "cell_type": "code",
   "execution_count": 11,
   "id": "656485b8",
   "metadata": {
    "scrolled": false
   },
   "outputs": [
    {
     "name": "stdout",
     "output_type": "stream",
     "text": [
      "<class 'pandas.core.frame.DataFrame'>\n",
      "RangeIndex: 891 entries, 0 to 890\n",
      "Data columns (total 9 columns):\n",
      " #   Column      Non-Null Count  Dtype  \n",
      "---  ------      --------------  -----  \n",
      " 0   survived    891 non-null    int64  \n",
      " 1   pclass      891 non-null    int64  \n",
      " 2   sex         891 non-null    object \n",
      " 3   age         714 non-null    float64\n",
      " 4   sibsp       891 non-null    int64  \n",
      " 5   parch       891 non-null    int64  \n",
      " 6   fare        891 non-null    float64\n",
      " 7   embarked    889 non-null    object \n",
      " 8   adult_male  891 non-null    bool   \n",
      "dtypes: bool(1), float64(2), int64(4), object(2)\n",
      "memory usage: 56.7+ KB\n"
     ]
    }
   ],
   "source": [
    "tita.info()"
   ]
  },
  {
   "cell_type": "markdown",
   "id": "710e88c8",
   "metadata": {},
   "source": [
    "#### 相関係数の確認\n",
    "Pandasのcorr()を使うことで各列の間の相関係数が算出されます。  \n",
    "1に近いほど「正の相関が強い」、-1に近いほど「負の相関が強い」という関係になります。  \n",
    "相関を算出する対象のデータ型には文字列型が含まれないため、相関を見るには文字列型を数値型へ変換するなど対処が必要になってきます。"
   ]
  },
  {
   "cell_type": "code",
   "execution_count": 12,
   "id": "000d1af0",
   "metadata": {
    "scrolled": false
   },
   "outputs": [
    {
     "data": {
      "text/html": [
       "<div>\n",
       "<style scoped>\n",
       "    .dataframe tbody tr th:only-of-type {\n",
       "        vertical-align: middle;\n",
       "    }\n",
       "\n",
       "    .dataframe tbody tr th {\n",
       "        vertical-align: top;\n",
       "    }\n",
       "\n",
       "    .dataframe thead th {\n",
       "        text-align: right;\n",
       "    }\n",
       "</style>\n",
       "<table border=\"1\" class=\"dataframe\">\n",
       "  <thead>\n",
       "    <tr style=\"text-align: right;\">\n",
       "      <th></th>\n",
       "      <th>survived</th>\n",
       "      <th>pclass</th>\n",
       "      <th>age</th>\n",
       "      <th>sibsp</th>\n",
       "      <th>parch</th>\n",
       "      <th>fare</th>\n",
       "      <th>adult_male</th>\n",
       "    </tr>\n",
       "  </thead>\n",
       "  <tbody>\n",
       "    <tr>\n",
       "      <th>survived</th>\n",
       "      <td>1.000000</td>\n",
       "      <td>-0.338481</td>\n",
       "      <td>-0.077221</td>\n",
       "      <td>-0.035322</td>\n",
       "      <td>0.081629</td>\n",
       "      <td>0.257307</td>\n",
       "      <td>-0.557080</td>\n",
       "    </tr>\n",
       "    <tr>\n",
       "      <th>pclass</th>\n",
       "      <td>-0.338481</td>\n",
       "      <td>1.000000</td>\n",
       "      <td>-0.369226</td>\n",
       "      <td>0.083081</td>\n",
       "      <td>0.018443</td>\n",
       "      <td>-0.549500</td>\n",
       "      <td>0.094035</td>\n",
       "    </tr>\n",
       "    <tr>\n",
       "      <th>age</th>\n",
       "      <td>-0.077221</td>\n",
       "      <td>-0.369226</td>\n",
       "      <td>1.000000</td>\n",
       "      <td>-0.308247</td>\n",
       "      <td>-0.189119</td>\n",
       "      <td>0.096067</td>\n",
       "      <td>0.280328</td>\n",
       "    </tr>\n",
       "    <tr>\n",
       "      <th>sibsp</th>\n",
       "      <td>-0.035322</td>\n",
       "      <td>0.083081</td>\n",
       "      <td>-0.308247</td>\n",
       "      <td>1.000000</td>\n",
       "      <td>0.414838</td>\n",
       "      <td>0.159651</td>\n",
       "      <td>-0.253586</td>\n",
       "    </tr>\n",
       "    <tr>\n",
       "      <th>parch</th>\n",
       "      <td>0.081629</td>\n",
       "      <td>0.018443</td>\n",
       "      <td>-0.189119</td>\n",
       "      <td>0.414838</td>\n",
       "      <td>1.000000</td>\n",
       "      <td>0.216225</td>\n",
       "      <td>-0.349943</td>\n",
       "    </tr>\n",
       "    <tr>\n",
       "      <th>fare</th>\n",
       "      <td>0.257307</td>\n",
       "      <td>-0.549500</td>\n",
       "      <td>0.096067</td>\n",
       "      <td>0.159651</td>\n",
       "      <td>0.216225</td>\n",
       "      <td>1.000000</td>\n",
       "      <td>-0.182024</td>\n",
       "    </tr>\n",
       "    <tr>\n",
       "      <th>adult_male</th>\n",
       "      <td>-0.557080</td>\n",
       "      <td>0.094035</td>\n",
       "      <td>0.280328</td>\n",
       "      <td>-0.253586</td>\n",
       "      <td>-0.349943</td>\n",
       "      <td>-0.182024</td>\n",
       "      <td>1.000000</td>\n",
       "    </tr>\n",
       "  </tbody>\n",
       "</table>\n",
       "</div>"
      ],
      "text/plain": [
       "            survived    pclass       age     sibsp     parch      fare  \\\n",
       "survived    1.000000 -0.338481 -0.077221 -0.035322  0.081629  0.257307   \n",
       "pclass     -0.338481  1.000000 -0.369226  0.083081  0.018443 -0.549500   \n",
       "age        -0.077221 -0.369226  1.000000 -0.308247 -0.189119  0.096067   \n",
       "sibsp      -0.035322  0.083081 -0.308247  1.000000  0.414838  0.159651   \n",
       "parch       0.081629  0.018443 -0.189119  0.414838  1.000000  0.216225   \n",
       "fare        0.257307 -0.549500  0.096067  0.159651  0.216225  1.000000   \n",
       "adult_male -0.557080  0.094035  0.280328 -0.253586 -0.349943 -0.182024   \n",
       "\n",
       "            adult_male  \n",
       "survived     -0.557080  \n",
       "pclass        0.094035  \n",
       "age           0.280328  \n",
       "sibsp        -0.253586  \n",
       "parch        -0.349943  \n",
       "fare         -0.182024  \n",
       "adult_male    1.000000  "
      ]
     },
     "execution_count": 12,
     "metadata": {},
     "output_type": "execute_result"
    }
   ],
   "source": [
    "tita.corr()"
   ]
  },
  {
   "cell_type": "markdown",
   "id": "3b859448",
   "metadata": {},
   "source": [
    "### データの可視化と加工\n",
    "数値や文字の羅列だけでは扱っているデータの特徴が掴み辛いです。  \n",
    "各列におおよそどのようなデータがあるのかは見えてきましたが、具体的な値のバラつきや傾向を把握するにはデータの可視化が効果的です。  \n",
    "本章前半に紹介してきたライブラリを使い、ここまで観察してきたデータフレームを実際に可視化していきます。  \n",
    "また、様々な観点での考察が重要なため必要に応じてデータの加工も合わせて行います。  \n",
    "先ほどの相関係数が見られるカラムを追加するためデータ型をobject型からint型に置き換えます。  \n",
    "元の列は残してsex列がmaleの時は0を、それ以外の時は1をsex_num列に入力しデータフレームへ列を追加します。  "
   ]
  },
  {
   "cell_type": "code",
   "execution_count": 13,
   "id": "2697d45c",
   "metadata": {},
   "outputs": [
    {
     "data": {
      "text/html": [
       "<div>\n",
       "<style scoped>\n",
       "    .dataframe tbody tr th:only-of-type {\n",
       "        vertical-align: middle;\n",
       "    }\n",
       "\n",
       "    .dataframe tbody tr th {\n",
       "        vertical-align: top;\n",
       "    }\n",
       "\n",
       "    .dataframe thead th {\n",
       "        text-align: right;\n",
       "    }\n",
       "</style>\n",
       "<table border=\"1\" class=\"dataframe\">\n",
       "  <thead>\n",
       "    <tr style=\"text-align: right;\">\n",
       "      <th></th>\n",
       "      <th>survived</th>\n",
       "      <th>pclass</th>\n",
       "      <th>sex</th>\n",
       "      <th>age</th>\n",
       "      <th>sibsp</th>\n",
       "      <th>parch</th>\n",
       "      <th>fare</th>\n",
       "      <th>embarked</th>\n",
       "      <th>adult_male</th>\n",
       "      <th>sex_num</th>\n",
       "    </tr>\n",
       "  </thead>\n",
       "  <tbody>\n",
       "    <tr>\n",
       "      <th>0</th>\n",
       "      <td>0</td>\n",
       "      <td>3</td>\n",
       "      <td>male</td>\n",
       "      <td>22.0</td>\n",
       "      <td>1</td>\n",
       "      <td>0</td>\n",
       "      <td>7.2500</td>\n",
       "      <td>S</td>\n",
       "      <td>True</td>\n",
       "      <td>0</td>\n",
       "    </tr>\n",
       "    <tr>\n",
       "      <th>1</th>\n",
       "      <td>1</td>\n",
       "      <td>1</td>\n",
       "      <td>female</td>\n",
       "      <td>38.0</td>\n",
       "      <td>1</td>\n",
       "      <td>0</td>\n",
       "      <td>71.2833</td>\n",
       "      <td>C</td>\n",
       "      <td>False</td>\n",
       "      <td>1</td>\n",
       "    </tr>\n",
       "    <tr>\n",
       "      <th>2</th>\n",
       "      <td>1</td>\n",
       "      <td>3</td>\n",
       "      <td>female</td>\n",
       "      <td>26.0</td>\n",
       "      <td>0</td>\n",
       "      <td>0</td>\n",
       "      <td>7.9250</td>\n",
       "      <td>S</td>\n",
       "      <td>False</td>\n",
       "      <td>1</td>\n",
       "    </tr>\n",
       "    <tr>\n",
       "      <th>3</th>\n",
       "      <td>1</td>\n",
       "      <td>1</td>\n",
       "      <td>female</td>\n",
       "      <td>35.0</td>\n",
       "      <td>1</td>\n",
       "      <td>0</td>\n",
       "      <td>53.1000</td>\n",
       "      <td>S</td>\n",
       "      <td>False</td>\n",
       "      <td>1</td>\n",
       "    </tr>\n",
       "    <tr>\n",
       "      <th>4</th>\n",
       "      <td>0</td>\n",
       "      <td>3</td>\n",
       "      <td>male</td>\n",
       "      <td>35.0</td>\n",
       "      <td>0</td>\n",
       "      <td>0</td>\n",
       "      <td>8.0500</td>\n",
       "      <td>S</td>\n",
       "      <td>True</td>\n",
       "      <td>0</td>\n",
       "    </tr>\n",
       "  </tbody>\n",
       "</table>\n",
       "</div>"
      ],
      "text/plain": [
       "   survived  pclass     sex   age  sibsp  parch     fare embarked  adult_male  \\\n",
       "0         0       3    male  22.0      1      0   7.2500        S        True   \n",
       "1         1       1  female  38.0      1      0  71.2833        C       False   \n",
       "2         1       3  female  26.0      0      0   7.9250        S       False   \n",
       "3         1       1  female  35.0      1      0  53.1000        S       False   \n",
       "4         0       3    male  35.0      0      0   8.0500        S        True   \n",
       "\n",
       "   sex_num  \n",
       "0        0  \n",
       "1        1  \n",
       "2        1  \n",
       "3        1  \n",
       "4        0  "
      ]
     },
     "execution_count": 13,
     "metadata": {},
     "output_type": "execute_result"
    }
   ],
   "source": [
    "tita['sex_num'] = np.where(tita['sex']=='male', 0, 1)\n",
    "tita.head()"
   ]
  },
  {
   "cell_type": "markdown",
   "id": "16454096",
   "metadata": {},
   "source": [
    "sex_num列が追加されたことが確認できます。続けてembarked列も同様に数値に置き換えます。  \n",
    "ただし、embarked列には欠損値があるのでこのまま同様の型変換をした場合、追加した列にも欠損が生じてしまいます。  \n",
    "そのため、型変換をする前に欠損値を補完しておきます。  \n",
    "embarked列はobject型なので今回は最頻値で補完してみます。value_counts()を使い列の出現データと最頻値を確認します。  "
   ]
  },
  {
   "cell_type": "code",
   "execution_count": 14,
   "id": "3eb84834",
   "metadata": {
    "scrolled": true
   },
   "outputs": [
    {
     "name": "stdout",
     "output_type": "stream",
     "text": [
      "S    644\n",
      "C    168\n",
      "Q     77\n",
      "Name: embarked, dtype: int64\n"
     ]
    }
   ],
   "source": [
    "print(tita[\"embarked\"].value_counts())"
   ]
  },
  {
   "cell_type": "markdown",
   "id": "adbb75c7",
   "metadata": {},
   "source": [
    "出現データはS、C、Qの3つで最頻値がSであることが分かったので、Pandasのfillnaを使い欠損値にはSを入力します。"
   ]
  },
  {
   "cell_type": "code",
   "execution_count": 15,
   "id": "7bae327b",
   "metadata": {
    "scrolled": true
   },
   "outputs": [
    {
     "name": "stdout",
     "output_type": "stream",
     "text": [
      "S    646\n",
      "C    168\n",
      "Q     77\n",
      "Name: embarked, dtype: int64\n"
     ]
    }
   ],
   "source": [
    "tita.fillna({\"embarked\":\"S\"},inplace=True)\n",
    "print(tita[\"embarked\"].value_counts())"
   ]
  },
  {
   "cell_type": "markdown",
   "id": "16a622df",
   "metadata": {},
   "source": [
    "欠損値2つがSで補完されたことが確認できます。\n",
    "ここで型変換のためmap関数を使いembarked列の値がSのときは0、Cのときは1、Qのときは2をembarked_num列に入力しデータフレームへ列を追加します。"
   ]
  },
  {
   "cell_type": "code",
   "execution_count": 16,
   "id": "3cb397e6",
   "metadata": {
    "scrolled": true
   },
   "outputs": [
    {
     "data": {
      "text/html": [
       "<div>\n",
       "<style scoped>\n",
       "    .dataframe tbody tr th:only-of-type {\n",
       "        vertical-align: middle;\n",
       "    }\n",
       "\n",
       "    .dataframe tbody tr th {\n",
       "        vertical-align: top;\n",
       "    }\n",
       "\n",
       "    .dataframe thead th {\n",
       "        text-align: right;\n",
       "    }\n",
       "</style>\n",
       "<table border=\"1\" class=\"dataframe\">\n",
       "  <thead>\n",
       "    <tr style=\"text-align: right;\">\n",
       "      <th></th>\n",
       "      <th>survived</th>\n",
       "      <th>pclass</th>\n",
       "      <th>sex</th>\n",
       "      <th>age</th>\n",
       "      <th>sibsp</th>\n",
       "      <th>parch</th>\n",
       "      <th>fare</th>\n",
       "      <th>embarked</th>\n",
       "      <th>adult_male</th>\n",
       "      <th>sex_num</th>\n",
       "      <th>embarked_num</th>\n",
       "    </tr>\n",
       "  </thead>\n",
       "  <tbody>\n",
       "    <tr>\n",
       "      <th>0</th>\n",
       "      <td>0</td>\n",
       "      <td>3</td>\n",
       "      <td>male</td>\n",
       "      <td>22.0</td>\n",
       "      <td>1</td>\n",
       "      <td>0</td>\n",
       "      <td>7.2500</td>\n",
       "      <td>S</td>\n",
       "      <td>True</td>\n",
       "      <td>0</td>\n",
       "      <td>0</td>\n",
       "    </tr>\n",
       "    <tr>\n",
       "      <th>1</th>\n",
       "      <td>1</td>\n",
       "      <td>1</td>\n",
       "      <td>female</td>\n",
       "      <td>38.0</td>\n",
       "      <td>1</td>\n",
       "      <td>0</td>\n",
       "      <td>71.2833</td>\n",
       "      <td>C</td>\n",
       "      <td>False</td>\n",
       "      <td>1</td>\n",
       "      <td>1</td>\n",
       "    </tr>\n",
       "    <tr>\n",
       "      <th>2</th>\n",
       "      <td>1</td>\n",
       "      <td>3</td>\n",
       "      <td>female</td>\n",
       "      <td>26.0</td>\n",
       "      <td>0</td>\n",
       "      <td>0</td>\n",
       "      <td>7.9250</td>\n",
       "      <td>S</td>\n",
       "      <td>False</td>\n",
       "      <td>1</td>\n",
       "      <td>0</td>\n",
       "    </tr>\n",
       "    <tr>\n",
       "      <th>3</th>\n",
       "      <td>1</td>\n",
       "      <td>1</td>\n",
       "      <td>female</td>\n",
       "      <td>35.0</td>\n",
       "      <td>1</td>\n",
       "      <td>0</td>\n",
       "      <td>53.1000</td>\n",
       "      <td>S</td>\n",
       "      <td>False</td>\n",
       "      <td>1</td>\n",
       "      <td>0</td>\n",
       "    </tr>\n",
       "    <tr>\n",
       "      <th>4</th>\n",
       "      <td>0</td>\n",
       "      <td>3</td>\n",
       "      <td>male</td>\n",
       "      <td>35.0</td>\n",
       "      <td>0</td>\n",
       "      <td>0</td>\n",
       "      <td>8.0500</td>\n",
       "      <td>S</td>\n",
       "      <td>True</td>\n",
       "      <td>0</td>\n",
       "      <td>0</td>\n",
       "    </tr>\n",
       "    <tr>\n",
       "      <th>5</th>\n",
       "      <td>0</td>\n",
       "      <td>3</td>\n",
       "      <td>male</td>\n",
       "      <td>NaN</td>\n",
       "      <td>0</td>\n",
       "      <td>0</td>\n",
       "      <td>8.4583</td>\n",
       "      <td>Q</td>\n",
       "      <td>True</td>\n",
       "      <td>0</td>\n",
       "      <td>2</td>\n",
       "    </tr>\n",
       "    <tr>\n",
       "      <th>6</th>\n",
       "      <td>0</td>\n",
       "      <td>1</td>\n",
       "      <td>male</td>\n",
       "      <td>54.0</td>\n",
       "      <td>0</td>\n",
       "      <td>0</td>\n",
       "      <td>51.8625</td>\n",
       "      <td>S</td>\n",
       "      <td>True</td>\n",
       "      <td>0</td>\n",
       "      <td>0</td>\n",
       "    </tr>\n",
       "    <tr>\n",
       "      <th>7</th>\n",
       "      <td>0</td>\n",
       "      <td>3</td>\n",
       "      <td>male</td>\n",
       "      <td>2.0</td>\n",
       "      <td>3</td>\n",
       "      <td>1</td>\n",
       "      <td>21.0750</td>\n",
       "      <td>S</td>\n",
       "      <td>False</td>\n",
       "      <td>0</td>\n",
       "      <td>0</td>\n",
       "    </tr>\n",
       "    <tr>\n",
       "      <th>8</th>\n",
       "      <td>1</td>\n",
       "      <td>3</td>\n",
       "      <td>female</td>\n",
       "      <td>27.0</td>\n",
       "      <td>0</td>\n",
       "      <td>2</td>\n",
       "      <td>11.1333</td>\n",
       "      <td>S</td>\n",
       "      <td>False</td>\n",
       "      <td>1</td>\n",
       "      <td>0</td>\n",
       "    </tr>\n",
       "    <tr>\n",
       "      <th>9</th>\n",
       "      <td>1</td>\n",
       "      <td>2</td>\n",
       "      <td>female</td>\n",
       "      <td>14.0</td>\n",
       "      <td>1</td>\n",
       "      <td>0</td>\n",
       "      <td>30.0708</td>\n",
       "      <td>C</td>\n",
       "      <td>False</td>\n",
       "      <td>1</td>\n",
       "      <td>1</td>\n",
       "    </tr>\n",
       "  </tbody>\n",
       "</table>\n",
       "</div>"
      ],
      "text/plain": [
       "   survived  pclass     sex   age  sibsp  parch     fare embarked  adult_male  \\\n",
       "0         0       3    male  22.0      1      0   7.2500        S        True   \n",
       "1         1       1  female  38.0      1      0  71.2833        C       False   \n",
       "2         1       3  female  26.0      0      0   7.9250        S       False   \n",
       "3         1       1  female  35.0      1      0  53.1000        S       False   \n",
       "4         0       3    male  35.0      0      0   8.0500        S        True   \n",
       "5         0       3    male   NaN      0      0   8.4583        Q        True   \n",
       "6         0       1    male  54.0      0      0  51.8625        S        True   \n",
       "7         0       3    male   2.0      3      1  21.0750        S       False   \n",
       "8         1       3  female  27.0      0      2  11.1333        S       False   \n",
       "9         1       2  female  14.0      1      0  30.0708        C       False   \n",
       "\n",
       "   sex_num  embarked_num  \n",
       "0        0             0  \n",
       "1        1             1  \n",
       "2        1             0  \n",
       "3        1             0  \n",
       "4        0             0  \n",
       "5        0             2  \n",
       "6        0             0  \n",
       "7        0             0  \n",
       "8        1             0  \n",
       "9        1             1  "
      ]
     },
     "execution_count": 16,
     "metadata": {},
     "output_type": "execute_result"
    }
   ],
   "source": [
    "tita['embarked_num'] = tita['embarked'].map({'S':0, 'C':1, 'Q':2})\n",
    "tita.head(10)"
   ]
  },
  {
   "cell_type": "markdown",
   "id": "50b939ad",
   "metadata": {},
   "source": [
    "embarked_num列が追加され、意図した数値が追加した列に入力されていることが確認できます。  \n",
    "先ほどのようにcorr()で簡単に相関係数が見れますが、seaborn.heatmapメソッドを使い色の濃淡や色相でデータの可視化をしていきます。  \n",
    "annot=Trueを指定することで相関係数が表示され、cmapで任意のカラーマップを指定して視覚的により一層データを解釈しやすくできます。  \n",
    "今回のカラーマップでは白色に近いほど正の相関を表し、黒色に近いほど負の相関を表します。"
   ]
  },
  {
   "cell_type": "code",
   "execution_count": 17,
   "id": "9eda8fb0",
   "metadata": {
    "scrolled": true
   },
   "outputs": [
    {
     "data": {
      "text/plain": [
       "<AxesSubplot:>"
      ]
     },
     "execution_count": 17,
     "metadata": {},
     "output_type": "execute_result"
    },
    {
     "data": {
      "image/png": "[encoded data removed]",
      "text/plain": [
       "<Figure size 432x288 with 2 Axes>"
      ]
     },
     "metadata": {
      "needs_background": "light"
     },
     "output_type": "display_data"
    }
   ],
   "source": [
    "sns.heatmap(tita.corr(), annot=True, cmap='afmhot')"
   ]
  },
  {
   "cell_type": "markdown",
   "id": "2c8644e5",
   "metadata": {},
   "source": [
    "この結果からsurvived列とsex_num列には正の相関が強いことが見えてきます。  \n",
    "adult_male列とsex_num列、survived列とadult_male列には負の相関が強いことが分かります。  \n",
    "つまり性別や年齢によって生還する確率が変わってくる可能性が想定できます。"
   ]
  },
  {
   "cell_type": "markdown",
   "id": "93035031",
   "metadata": {},
   "source": [
    "#### 箱ひげ図\n",
    "データの分布やバラつきをグラフで表示します。  \n",
    "統計量の確認で各列のサマリを見ましたが、ここでは具体的に列を絞って箱ひげ図を見てみます。  \n",
    "まずは統計量を確認した時にfare列の最大値が著しく大きかったのでこれを見てみます。"
   ]
  },
  {
   "cell_type": "code",
   "execution_count": 18,
   "id": "2f2fd19b",
   "metadata": {
    "scrolled": true
   },
   "outputs": [
    {
     "data": {
      "image/png": "[encoded data removed]",
      "text/plain": [
       "<Figure size 432x288 with 1 Axes>"
      ]
     },
     "metadata": {
      "needs_background": "light"
     },
     "output_type": "display_data"
    }
   ],
   "source": [
    "plt.figure()\n",
    "plt.grid()\n",
    "plt.boxplot(tita[\"fare\"])\n",
    "plt.show()"
   ]
  },
  {
   "cell_type": "markdown",
   "id": "eed848ee",
   "metadata": {},
   "source": [
    "fare列の最大値512は第三四分位数からも大きく離れていることが分かります。この最大値は外れ値として考えた方がよさそうです。  \n",
    "同様にage列も箱ひげ図を見てみます。  "
   ]
  },
  {
   "cell_type": "code",
   "execution_count": 19,
   "id": "7b8caa88",
   "metadata": {
    "scrolled": true
   },
   "outputs": [
    {
     "data": {
      "image/png": "[encoded data removed]",
      "text/plain": [
       "<Figure size 432x288 with 1 Axes>"
      ]
     },
     "metadata": {
      "needs_background": "light"
     },
     "output_type": "display_data"
    }
   ],
   "source": [
    "plt.figure()\n",
    "plt.grid()\n",
    "plt.boxplot(tita[\"age\"])\n",
    "plt.show()"
   ]
  },
  {
   "cell_type": "markdown",
   "id": "cc49a801",
   "metadata": {},
   "source": [
    "age列には欠損値があったため箱ひげ図が表示されませんでした。  \n",
    "このような場合はPandasのdropnaを使い欠損値を除外して扱うか、欠損値を補完することになります。\n",
    "まずはage列の欠損値を除外してグラフを表示してみます。"
   ]
  },
  {
   "cell_type": "code",
   "execution_count": 20,
   "id": "cc0da0ae",
   "metadata": {},
   "outputs": [
    {
     "data": {
      "image/png": "[encoded data removed]",
      "text/plain": [
       "<Figure size 432x288 with 1 Axes>"
      ]
     },
     "metadata": {
      "needs_background": "light"
     },
     "output_type": "display_data"
    }
   ],
   "source": [
    "plt.figure()\n",
    "plt.grid()\n",
    "plt.boxplot(tita['age'].dropna())\n",
    "plt.show()"
   ]
  },
  {
   "cell_type": "markdown",
   "id": "b319020f",
   "metadata": {},
   "source": [
    "次はage列のデータ型はfloat64なので欠損は平均値で補完してから表示してみます。  \n",
    "前段で紹介したPandasのfillnaメソッドを使い定数を指定して補完する以外にも、指定列の平均値、中央値、最大値などを指定して補完することができます。"
   ]
  },
  {
   "cell_type": "code",
   "execution_count": 21,
   "id": "1bdd2253",
   "metadata": {
    "scrolled": false
   },
   "outputs": [
    {
     "data": {
      "text/plain": [
       "survived        0\n",
       "pclass          0\n",
       "sex             0\n",
       "age             0\n",
       "sibsp           0\n",
       "parch           0\n",
       "fare            0\n",
       "embarked        0\n",
       "adult_male      0\n",
       "sex_num         0\n",
       "embarked_num    0\n",
       "dtype: int64"
      ]
     },
     "execution_count": 21,
     "metadata": {},
     "output_type": "execute_result"
    }
   ],
   "source": [
    "tita[\"age\"] = tita[\"age\"].fillna(tita[\"age\"].mean())\n",
    "tita.isnull().sum()"
   ]
  },
  {
   "cell_type": "markdown",
   "id": "a6bcf1a3",
   "metadata": {},
   "source": [
    "age列の欠損値が補完できたので、改めて箱ひげ図を表示してみます。"
   ]
  },
  {
   "cell_type": "code",
   "execution_count": 22,
   "id": "ba3171eb",
   "metadata": {},
   "outputs": [
    {
     "data": {
      "image/png": "[encoded data removed]",
      "text/plain": [
       "<Figure size 432x288 with 1 Axes>"
      ]
     },
     "metadata": {
      "needs_background": "light"
     },
     "output_type": "display_data"
    }
   ],
   "source": [
    "plt.figure()\n",
    "plt.grid()\n",
    "plt.boxplot(tita['age'].dropna())\n",
    "plt.show()"
   ]
  },
  {
   "cell_type": "markdown",
   "id": "10754c85",
   "metadata": {},
   "source": [
    "177個の欠損値を平均値の約29で補完したことにより、四分位数が変化しました。  \n",
    "補完の仕方によって別の特徴に変化する可能性もあるため、欠損をどのように扱うかは慎重に行うべきだということが分かります。  \n",
    "今回はこのまま欠損値を平均値で補完したまま進めていきます。"
   ]
  },
  {
   "cell_type": "markdown",
   "id": "2854c01a",
   "metadata": {},
   "source": [
    "#### 散布図\n",
    "先ほど見たage列とfare列の関係を見るための分布をPandasのplot.scatterメソッドを使い描写します。"
   ]
  },
  {
   "cell_type": "code",
   "execution_count": 23,
   "id": "882fc59d",
   "metadata": {
    "scrolled": true
   },
   "outputs": [
    {
     "data": {
      "text/plain": [
       "<AxesSubplot:xlabel='age', ylabel='fare'>"
      ]
     },
     "execution_count": 23,
     "metadata": {},
     "output_type": "execute_result"
    },
    {
     "data": {
      "image/png": "[encoded data removed]",
      "text/plain": [
       "<Figure size 432x288 with 1 Axes>"
      ]
     },
     "metadata": {
      "needs_background": "light"
     },
     "output_type": "display_data"
    }
   ],
   "source": [
    "tita.plot.scatter(x='age', y='fare')"
   ]
  },
  {
   "cell_type": "markdown",
   "id": "cb094120",
   "metadata": {},
   "source": [
    "いずれの年代でもfareが100未満の人が集中していることが確認できます。  \n",
    "fareが100以上である年代もまばらです。また、箱ひげ図で確認できた外れ値は30半ばの人だというのが分かります。  \n",
    "このグラフにsurvivedの要素を加えた場合も見てみます。"
   ]
  },
  {
   "cell_type": "code",
   "execution_count": 24,
   "id": "679a8975",
   "metadata": {
    "scrolled": true
   },
   "outputs": [
    {
     "data": {
      "text/plain": [
       "<AxesSubplot:xlabel='age', ylabel='fare'>"
      ]
     },
     "execution_count": 24,
     "metadata": {},
     "output_type": "execute_result"
    },
    {
     "data": {
      "image/png": "[encoded data removed]",
      "text/plain": [
       "<Figure size 432x288 with 1 Axes>"
      ]
     },
     "metadata": {
      "needs_background": "light"
     },
     "output_type": "display_data"
    }
   ],
   "source": [
    "sns.scatterplot(x='age', y='fare', hue='survived', data=tita)"
   ]
  },
  {
   "cell_type": "markdown",
   "id": "b855c713",
   "metadata": {},
   "source": [
    "外れ値を抜きにして見てもfareが大きいほど、ageが小さいほど生還している乗客が多いように見えます。"
   ]
  },
  {
   "cell_type": "markdown",
   "id": "6586e23e",
   "metadata": {},
   "source": [
    "#### 棒グラフ\n",
    "列の特性を更に詳しく見るため、数値の高低差が表現できる棒グラフでそれぞれの列を描写してみます。  \n",
    "まずは各列でグルーピングしsurvivedの平均値、すなわちその列における生存率を表示して傾向を見ます。  \n",
    "棒グラフはseabornのcountplotで各列の出現文字列の数をカウントし、各軸をsurvivedで分割して集計し縦方向に表示します。  \n",
    "はじめにsex列を対象に見ていきます。"
   ]
  },
  {
   "cell_type": "code",
   "execution_count": 25,
   "id": "2b70f6e9",
   "metadata": {
    "scrolled": true
   },
   "outputs": [
    {
     "name": "stdout",
     "output_type": "stream",
     "text": [
      "sex\n",
      "female    0.74\n",
      "male      0.19\n",
      "Name: survived, dtype: float64\n"
     ]
    },
    {
     "data": {
      "text/plain": [
       "<AxesSubplot:xlabel='sex', ylabel='count'>"
      ]
     },
     "execution_count": 25,
     "metadata": {},
     "output_type": "execute_result"
    },
    {
     "data": {
      "image/png": "[encoded data removed]",
      "text/plain": [
       "<Figure size 432x288 with 1 Axes>"
      ]
     },
     "metadata": {
      "needs_background": "light"
     },
     "output_type": "display_data"
    }
   ],
   "source": [
    "print(tita.groupby('sex')['survived'].mean().round(2))\n",
    "sns.countplot(x='sex', hue='survived', data=tita, palette='gist_rainbow')"
   ]
  },
  {
   "cell_type": "markdown",
   "id": "4c89d36f",
   "metadata": {},
   "source": [
    "female(女性)の方がmale(男性)よりも生還した乗客が多いです。  \n",
    "乗客の総数は男性の方が多いので、女性の方が優先して救助されたことなどが想定できます。  \n",
    "次にpclass列を対象に見てみます。"
   ]
  },
  {
   "cell_type": "code",
   "execution_count": 26,
   "id": "c35e736b",
   "metadata": {
    "scrolled": false
   },
   "outputs": [
    {
     "name": "stdout",
     "output_type": "stream",
     "text": [
      "pclass\n",
      "1    0.63\n",
      "2    0.47\n",
      "3    0.24\n",
      "Name: survived, dtype: float64\n"
     ]
    },
    {
     "data": {
      "text/plain": [
       "<AxesSubplot:xlabel='pclass', ylabel='count'>"
      ]
     },
     "execution_count": 26,
     "metadata": {},
     "output_type": "execute_result"
    },
    {
     "data": {
      "image/png": "[encoded data removed]",
      "text/plain": [
       "<Figure size 432x288 with 1 Axes>"
      ]
     },
     "metadata": {
      "needs_background": "light"
     },
     "output_type": "display_data"
    }
   ],
   "source": [
    "print(tita.groupby('pclass')['survived'].mean().round(2))\n",
    "sns.countplot(x='pclass', hue='survived', data=tita, palette='gist_rainbow')"
   ]
  },
  {
   "cell_type": "markdown",
   "id": "50feef53",
   "metadata": {},
   "source": [
    "チケット等級は3 ＜ 2＜ 1 と上がるほど乗客の生還率が高いようです。  \n",
    "1等級と2等級では半数近くが生還していますが、3等級では25%程度なのでチケット等級が高い方が優先的に救助されたことなど想定できます。  \n",
    "次はembarked列を対象に見てみます。"
   ]
  },
  {
   "cell_type": "code",
   "execution_count": 27,
   "id": "a5888d24",
   "metadata": {
    "scrolled": true
   },
   "outputs": [
    {
     "name": "stdout",
     "output_type": "stream",
     "text": [
      "embarked\n",
      "C    0.55\n",
      "Q    0.39\n",
      "S    0.34\n",
      "Name: survived, dtype: float64\n"
     ]
    },
    {
     "data": {
      "text/plain": [
       "<AxesSubplot:xlabel='embarked', ylabel='count'>"
      ]
     },
     "execution_count": 27,
     "metadata": {},
     "output_type": "execute_result"
    },
    {
     "data": {
      "image/png": "[encoded data removed]",
      "text/plain": [
       "<Figure size 432x288 with 1 Axes>"
      ]
     },
     "metadata": {
      "needs_background": "light"
     },
     "output_type": "display_data"
    }
   ],
   "source": [
    "print(tita.groupby('embarked')['survived'].mean().round(2))\n",
    "sns.countplot(x='embarked', hue='survived', data=tita, palette='gist_rainbow')"
   ]
  },
  {
   "cell_type": "markdown",
   "id": "93e9dc0c",
   "metadata": {},
   "source": [
    "乗船した港がCだと半数以上が生還していますが母数が少ないため、傾向を掴むのが難しいです。  \n",
    "視点を変えてsibsp列を見てみます。"
   ]
  },
  {
   "cell_type": "code",
   "execution_count": 28,
   "id": "370ca664",
   "metadata": {},
   "outputs": [
    {
     "name": "stdout",
     "output_type": "stream",
     "text": [
      "sibsp\n",
      "0    0.35\n",
      "1    0.54\n",
      "2    0.46\n",
      "3    0.25\n",
      "4    0.17\n",
      "5    0.00\n",
      "8    0.00\n",
      "Name: survived, dtype: float64\n"
     ]
    },
    {
     "data": {
      "text/plain": [
       "<AxesSubplot:xlabel='sibsp', ylabel='count'>"
      ]
     },
     "execution_count": 28,
     "metadata": {},
     "output_type": "execute_result"
    },
    {
     "data": {
      "image/png": "[encoded data removed]",
      "text/plain": [
       "<Figure size 432x288 with 1 Axes>"
      ]
     },
     "metadata": {
      "needs_background": "light"
     },
     "output_type": "display_data"
    }
   ],
   "source": [
    "print(tita.groupby('sibsp')['survived'].mean().round(2))\n",
    "sns.countplot(x='sibsp', hue='survived', data=tita, palette='gist_rainbow')"
   ]
  },
  {
   "cell_type": "markdown",
   "id": "ec0c5d49",
   "metadata": {},
   "source": [
    "同乗している兄弟や配偶者の数が1～2だと生還した乗客が多く、それ以外は少ない傾向が見えます。  \n",
    "例えば、sibspの1が夫婦での乗船客で大半を占めていた場合はそのうちの半数近くが女性になるので生還率が高くなると考えられます。  \n",
    "続けてparch列も見てみます。"
   ]
  },
  {
   "cell_type": "code",
   "execution_count": 29,
   "id": "69fedb13",
   "metadata": {},
   "outputs": [
    {
     "name": "stdout",
     "output_type": "stream",
     "text": [
      "parch\n",
      "0    0.34\n",
      "1    0.55\n",
      "2    0.50\n",
      "3    0.60\n",
      "4    0.00\n",
      "5    0.20\n",
      "6    0.00\n",
      "Name: survived, dtype: float64\n"
     ]
    },
    {
     "data": {
      "text/plain": [
       "<AxesSubplot:xlabel='parch', ylabel='count'>"
      ]
     },
     "execution_count": 29,
     "metadata": {},
     "output_type": "execute_result"
    },
    {
     "data": {
      "image/png": "[encoded data removed]",
      "text/plain": [
       "<Figure size 432x288 with 1 Axes>"
      ]
     },
     "metadata": {
      "needs_background": "light"
     },
     "output_type": "display_data"
    }
   ],
   "source": [
    "print(tita.groupby('parch')['survived'].mean().round(2))\n",
    "sns.countplot(x='parch', hue='survived', data=tita, palette='gist_rainbow')"
   ]
  },
  {
   "cell_type": "markdown",
   "id": "a7e82f78",
   "metadata": {},
   "source": [
    "同乗している親や子の数は1～3だと生還した乗客が多いようですが、全乗客の内3割程度に対する傾向なため情報が乏しいです。  \n",
    "これも違う観点で見ていった方がよさそうです。"
   ]
  },
  {
   "cell_type": "markdown",
   "id": "f69ffe69",
   "metadata": {},
   "source": [
    "#### データのビニング\n",
    "ここまでのようにage列(年齢)とsurvived列(生還)の関係性を見ていきます。  \n",
    "今回はage列を0以上10未満、10以上20未満のように10毎の範囲で区切り、区切られた範囲に対しての生還の関係を見てみます。  \n",
    "データフレームに対してage_range列を追加し、ageが0以上10未満の場合は0、10以上20未満の場合は1のようにage_range列へ入力します。"
   ]
  },
  {
   "cell_type": "code",
   "execution_count": 30,
   "id": "883ec8a0",
   "metadata": {},
   "outputs": [
    {
     "data": {
      "text/html": [
       "<div>\n",
       "<style scoped>\n",
       "    .dataframe tbody tr th:only-of-type {\n",
       "        vertical-align: middle;\n",
       "    }\n",
       "\n",
       "    .dataframe tbody tr th {\n",
       "        vertical-align: top;\n",
       "    }\n",
       "\n",
       "    .dataframe thead th {\n",
       "        text-align: right;\n",
       "    }\n",
       "</style>\n",
       "<table border=\"1\" class=\"dataframe\">\n",
       "  <thead>\n",
       "    <tr style=\"text-align: right;\">\n",
       "      <th></th>\n",
       "      <th>survived</th>\n",
       "      <th>pclass</th>\n",
       "      <th>sex</th>\n",
       "      <th>age</th>\n",
       "      <th>sibsp</th>\n",
       "      <th>parch</th>\n",
       "      <th>fare</th>\n",
       "      <th>embarked</th>\n",
       "      <th>adult_male</th>\n",
       "      <th>sex_num</th>\n",
       "      <th>embarked_num</th>\n",
       "      <th>age_range</th>\n",
       "    </tr>\n",
       "  </thead>\n",
       "  <tbody>\n",
       "    <tr>\n",
       "      <th>0</th>\n",
       "      <td>0</td>\n",
       "      <td>3</td>\n",
       "      <td>male</td>\n",
       "      <td>22.0</td>\n",
       "      <td>1</td>\n",
       "      <td>0</td>\n",
       "      <td>7.2500</td>\n",
       "      <td>S</td>\n",
       "      <td>True</td>\n",
       "      <td>0</td>\n",
       "      <td>0</td>\n",
       "      <td>2.0</td>\n",
       "    </tr>\n",
       "    <tr>\n",
       "      <th>1</th>\n",
       "      <td>1</td>\n",
       "      <td>1</td>\n",
       "      <td>female</td>\n",
       "      <td>38.0</td>\n",
       "      <td>1</td>\n",
       "      <td>0</td>\n",
       "      <td>71.2833</td>\n",
       "      <td>C</td>\n",
       "      <td>False</td>\n",
       "      <td>1</td>\n",
       "      <td>1</td>\n",
       "      <td>3.0</td>\n",
       "    </tr>\n",
       "    <tr>\n",
       "      <th>2</th>\n",
       "      <td>1</td>\n",
       "      <td>3</td>\n",
       "      <td>female</td>\n",
       "      <td>26.0</td>\n",
       "      <td>0</td>\n",
       "      <td>0</td>\n",
       "      <td>7.9250</td>\n",
       "      <td>S</td>\n",
       "      <td>False</td>\n",
       "      <td>1</td>\n",
       "      <td>0</td>\n",
       "      <td>2.0</td>\n",
       "    </tr>\n",
       "    <tr>\n",
       "      <th>3</th>\n",
       "      <td>1</td>\n",
       "      <td>1</td>\n",
       "      <td>female</td>\n",
       "      <td>35.0</td>\n",
       "      <td>1</td>\n",
       "      <td>0</td>\n",
       "      <td>53.1000</td>\n",
       "      <td>S</td>\n",
       "      <td>False</td>\n",
       "      <td>1</td>\n",
       "      <td>0</td>\n",
       "      <td>3.0</td>\n",
       "    </tr>\n",
       "    <tr>\n",
       "      <th>4</th>\n",
       "      <td>0</td>\n",
       "      <td>3</td>\n",
       "      <td>male</td>\n",
       "      <td>35.0</td>\n",
       "      <td>0</td>\n",
       "      <td>0</td>\n",
       "      <td>8.0500</td>\n",
       "      <td>S</td>\n",
       "      <td>True</td>\n",
       "      <td>0</td>\n",
       "      <td>0</td>\n",
       "      <td>3.0</td>\n",
       "    </tr>\n",
       "  </tbody>\n",
       "</table>\n",
       "</div>"
      ],
      "text/plain": [
       "   survived  pclass     sex   age  sibsp  parch     fare embarked  adult_male  \\\n",
       "0         0       3    male  22.0      1      0   7.2500        S        True   \n",
       "1         1       1  female  38.0      1      0  71.2833        C       False   \n",
       "2         1       3  female  26.0      0      0   7.9250        S       False   \n",
       "3         1       1  female  35.0      1      0  53.1000        S       False   \n",
       "4         0       3    male  35.0      0      0   8.0500        S        True   \n",
       "\n",
       "   sex_num  embarked_num  age_range  \n",
       "0        0             0        2.0  \n",
       "1        1             1        3.0  \n",
       "2        1             0        2.0  \n",
       "3        1             0        3.0  \n",
       "4        0             0        3.0  "
      ]
     },
     "execution_count": 30,
     "metadata": {},
     "output_type": "execute_result"
    }
   ],
   "source": [
    "tita['age_range'] = tita['age'] // 10\n",
    "tita.head()"
   ]
  },
  {
   "cell_type": "code",
   "execution_count": 31,
   "id": "47a1ffda",
   "metadata": {},
   "outputs": [
    {
     "data": {
      "text/plain": [
       "<AxesSubplot:xlabel='age_range', ylabel='Count'>"
      ]
     },
     "execution_count": 31,
     "metadata": {},
     "output_type": "execute_result"
    },
    {
     "data": {
      "image/png": "[encoded data removed]",
      "text/plain": [
       "<Figure size 432x288 with 1 Axes>"
      ]
     },
     "metadata": {
      "needs_background": "light"
     },
     "output_type": "display_data"
    }
   ],
   "source": [
    "sns.histplot(tita['age_range'], binwidth=1, color='blue')"
   ]
  },
  {
   "cell_type": "markdown",
   "id": "1a4e6ef8",
   "metadata": {},
   "source": [
    "そしてage_rage列ごとにsurvived列の値の件数をcountした棒グラフを生成すると以下のようになります。"
   ]
  },
  {
   "cell_type": "code",
   "execution_count": 32,
   "id": "d0f8749a",
   "metadata": {
    "scrolled": true
   },
   "outputs": [
    {
     "name": "stdout",
     "output_type": "stream",
     "text": [
      "age_range\n",
      "0.0    0.61\n",
      "1.0    0.40\n",
      "2.0    0.32\n",
      "3.0    0.44\n",
      "4.0    0.38\n",
      "5.0    0.42\n",
      "6.0    0.32\n",
      "7.0    0.00\n",
      "8.0    1.00\n",
      "Name: survived, dtype: float64\n"
     ]
    },
    {
     "data": {
      "text/plain": [
       "<seaborn.axisgrid.FacetGrid at 0x1b49c258c10>"
      ]
     },
     "execution_count": 32,
     "metadata": {},
     "output_type": "execute_result"
    },
    {
     "data": {
      "image/png": "[encoded data removed]",
      "text/plain": [
       "<Figure size 720x1800 with 9 Axes>"
      ]
     },
     "metadata": {
      "needs_background": "light"
     },
     "output_type": "display_data"
    }
   ],
   "source": [
    "print(tita.groupby('age_range')['survived'].mean().round(2))\n",
    "sns.catplot(x='survived', col='age_range', kind='count', data=tita, col_wrap=2, palette='gist_rainbow')"
   ]
  },
  {
   "cell_type": "markdown",
   "id": "90d24280",
   "metadata": {},
   "source": [
    "生還した数(survivedが1)は年齢が0～10代までと30～50代までは比較的多く、20代と60～70台はおおよそ半々くらいのようです。  \n",
    "これを更に深掘りして男女別(sex列)での違いがあるのか先ほどのグラフにsex列の要素を追加してみます。"
   ]
  },
  {
   "cell_type": "code",
   "execution_count": 37,
   "id": "a37a33be",
   "metadata": {
    "scrolled": true
   },
   "outputs": [
    {
     "data": {
      "text/plain": [
       "<seaborn.axisgrid.FacetGrid at 0x2bdca1e31f0>"
      ]
     },
     "execution_count": 37,
     "metadata": {},
     "output_type": "execute_result"
    },
    {
     "data": {
      "image/png": "[encoded data removed]",
      "text/plain": [
       "<Figure size 790.5x1800 with 9 Axes>"
      ]
     },
     "metadata": {
      "needs_background": "light"
     },
     "output_type": "display_data"
    }
   ],
   "source": [
    "sns.catplot(x='survived', col='age_range', kind='count', hue='sex', data=tita, col_wrap=2, palette='bright')"
   ]
  },
  {
   "cell_type": "markdown",
   "id": "b91315c2",
   "metadata": {},
   "source": [
    "age_rangeごとに1つのグラフが生成され、グラフの左半分がsurvivedが0(死亡)の件数で右半分が1(生存)の件数です。  \n",
    "青色がmale(男性)で橙色がfemale(女性)を示しています。  \n",
    "いずれの年代においても女性の生還率が高いことが見て取れます。  \n",
    "age列に関して欠損値を平均値(約29.7)で177個の値が補完したこともあり、20代の値が顕著に件数が多くなっています。  \n",
    "この補完により元データから大きく内容が変わってしまったとも考えられます。"
   ]
  },
  {
   "cell_type": "markdown",
   "id": "7dab835b",
   "metadata": {},
   "source": [
    "### まとめ\n",
    "ここまでデータの観察/加工/可視化をやってみることで以下のようなデータの特性が見えてきました。  \n",
    "\n",
    "【見えてきた特性】  \n",
    "- 生還の有無(survived列)と性別(sex列)には正の相関が強い\n",
    "- 乗船していたデッキ(deck列)はレコード全体の8割が欠損している\n",
    "- 乗船料金(fare列)には外れ値が存在している\n",
    "- 乗船料金(fare列)が高いほど生還する傾向が見られる\n",
    "- 性別(sex列)が女性(female)だと年齢を問わず生還した傾向がある\n",
    "- 年齢(age列)に欠損値があり補完する値で特性が変わる可能性がある\n",
    "- 年齢(age列)と性別(sex列)の組み合わせで生還する傾向に変化が見られる\n",
    "\n",
    "今回の演習で紹介した以外にも様々な角度から前処理を行うことが、より品質の高いデータ分析へとつながっていきます。"
   ]
  }
 ],
 "metadata": {
  "kernelspec": {
   "display_name": "Python 3 (ipykernel)",
   "language": "python",
   "name": "python3"
  },
  "language_info": {
   "codemirror_mode": {
    "name": "ipython",
    "version": 3
   },
   "file_extension": ".py",
   "mimetype": "text/x-python",
   "name": "python",
   "nbconvert_exporter": "python",
   "pygments_lexer": "ipython3",
   "version": "3.9.9"
  }
 },
 "nbformat": 4,
 "nbformat_minor": 5
}
