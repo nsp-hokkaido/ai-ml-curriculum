{
 "cells": [
  {
   "cell_type": "markdown",
   "id": "7b49a2cf",
   "metadata": {},
   "source": [
    "# ***NumPy***\n",
    "---\n",
    "NumPyは、数値計算を高速、効率的に行うためのライブラリ。<br>\n",
    "・多次元配列の処理を高速に処理できる。<br>\n",
    "・乱数の生成、統計処理などの科学技術計算を効率的に処理できる。<br>\n",
    "上記のメリットがあり、AIに欠かせない機械学習、ディープラーニングで扱う大規模なデータ処理に適しているため、必須のライブラリとなっている。"
   ]
  },
  {
   "cell_type": "markdown",
   "id": "1547f3d6",
   "metadata": {},
   "source": [
    "### ■Numpyの使用\n",
    "NumPyを利用するために、インポートする。<br>"
   ]
  },
  {
   "cell_type": "code",
   "execution_count": 1,
   "id": "e0f9e09f",
   "metadata": {},
   "outputs": [],
   "source": [
    "import numpy as np"
   ]
  },
  {
   "cell_type": "markdown",
   "id": "2b3bc63f",
   "metadata": {},
   "source": [
    "### ■1次元配列の作成\n",
    "arrayで配列を作成できる。<br>"
   ]
  },
  {
   "cell_type": "code",
   "execution_count": 2,
   "id": "5afea72a",
   "metadata": {},
   "outputs": [
    {
     "name": "stdout",
     "output_type": "stream",
     "text": [
      "['札幌' '旭川' '函館' '帯広' '釧路']\n"
     ]
    }
   ],
   "source": [
    "# リストから配列を作成\n",
    "data = np.array(['札幌','旭川','函館','帯広','釧路']) \n",
    "print(data)"
   ]
  },
  {
   "cell_type": "code",
   "execution_count": 3,
   "id": "78ca44c1",
   "metadata": {},
   "outputs": [
    {
     "name": "stdout",
     "output_type": "stream",
     "text": [
      "[28.5 30.  24.2 32.8 20. ]\n"
     ]
    }
   ],
   "source": [
    "# 数値のリストから配列を作成\n",
    "data = np.array([28.5, 30.0, 24.2, 32.8, 20.0])\n",
    "print(data)"
   ]
  },
  {
   "cell_type": "markdown",
   "id": "59c4d369",
   "metadata": {},
   "source": [
    "### ■2次元配列の作成\n",
    "2次元配列は、配列要素が縦横（行と列）に並ぶ配列である。"
   ]
  },
  {
   "cell_type": "code",
   "execution_count": 4,
   "id": "08f9fbd3",
   "metadata": {},
   "outputs": [
    {
     "name": "stdout",
     "output_type": "stream",
     "text": [
      "[[11 12 13 14 15]\n",
      " [21 22 23 24 25]]\n"
     ]
    }
   ],
   "source": [
    "# ２次元配列を作成\n",
    "data = np.array([[11,12,13,14,15],[21,22,23,24,25]])\n",
    "print(data)"
   ]
  },
  {
   "cell_type": "markdown",
   "id": "4ccf15b7",
   "metadata": {},
   "source": [
    "reshapeで、1次元配列を引数で指定された形の多次元配列に変換することができる。"
   ]
  },
  {
   "cell_type": "code",
   "execution_count": 5,
   "id": "9e9a61c5",
   "metadata": {
    "scrolled": true
   },
   "outputs": [
    {
     "name": "stdout",
     "output_type": "stream",
     "text": [
      "[[11 12 13 14 15]\n",
      " [21 22 23 24 25]]\n"
     ]
    }
   ],
   "source": [
    "# １次元配列\n",
    "data1 = np.array([11,12,13,14,15,21,22,23,24,25])\n",
    "\n",
    "# ２次元配列（2行、5列）\n",
    "data2 = data1.reshape(2,5)\n",
    "print(data2)"
   ]
  },
  {
   "cell_type": "code",
   "execution_count": 6,
   "id": "d9cea2c7",
   "metadata": {},
   "outputs": [
    {
     "name": "stdout",
     "output_type": "stream",
     "text": [
      "[[11 12 13]\n",
      " [21 22 23]\n",
      " [31 32 33]]\n"
     ]
    }
   ],
   "source": [
    "#１次元配列\n",
    "data1 = np.array([11,12,13,21,22,23,31,32,33])\n",
    "\n",
    "#２次元配列（3行、3列）\n",
    "data2 = data1.reshape(3,3)\n",
    "print(data2)"
   ]
  },
  {
   "cell_type": "markdown",
   "id": "12159353",
   "metadata": {},
   "source": [
    "### ■NumPyの主な型\n",
    "NumPyで作成した配列の型は「numpy.ndarray」となる。"
   ]
  },
  {
   "cell_type": "code",
   "execution_count": 7,
   "id": "854e14ef",
   "metadata": {},
   "outputs": [
    {
     "data": {
      "text/plain": [
       "numpy.ndarray"
      ]
     },
     "execution_count": 7,
     "metadata": {},
     "output_type": "execute_result"
    }
   ],
   "source": [
    " # 配列の型 ※typeで確認\n",
    "type(np.array(['札幌','旭川','函館','帯広','釧路']))"
   ]
  },
  {
   "cell_type": "markdown",
   "id": "2081c42e",
   "metadata": {},
   "source": [
    "配列の要素には複数の型がある。要素の例は以下のとおり。<br>\n",
    "※異なる型の要素の混在は不可。"
   ]
  },
  {
   "cell_type": "markdown",
   "id": "85c1fbf8",
   "metadata": {},
   "source": [
    "\n",
    "|Pythonの型|NumPyの型|説明|備考|\n",
    "|:----|:----|:----|:----|\n",
    "|int|numpy.int32|符号付き整数型（32ビット）||\n",
    "|float|numpy.float64|浮動小数点数型（64ビット） |小数点が付与されて印字される|\n",
    "|bool|numpy.bool_|ブール型|数値から真理値への変換では、0 が False で、0 以外が True になる|\n",
    "|str|numpy.str_|文字列型|"
   ]
  },
  {
   "cell_type": "markdown",
   "id": "43070b0d",
   "metadata": {},
   "source": [
    "上記の型について、intを例にPythonの型とNumPyの型を確認する。"
   ]
  },
  {
   "cell_type": "code",
   "execution_count": 8,
   "id": "423b0ce2",
   "metadata": {},
   "outputs": [
    {
     "data": {
      "text/plain": [
       "int"
      ]
     },
     "execution_count": 8,
     "metadata": {},
     "output_type": "execute_result"
    }
   ],
   "source": [
    "# Pythonの整数型\n",
    "type(10)"
   ]
  },
  {
   "cell_type": "code",
   "execution_count": 9,
   "id": "d461ff38",
   "metadata": {},
   "outputs": [
    {
     "name": "stdout",
     "output_type": "stream",
     "text": [
      "10\n"
     ]
    }
   ],
   "source": [
    "# 整数型のNumPy配列を作成\n",
    "data = np.array([10, 11, 12])\n",
    "\n",
    "# 最初の要素を取り出す\n",
    "# 配列[]で括弧内に要素のインデックスを指定する\n",
    "print(data[0])"
   ]
  },
  {
   "cell_type": "code",
   "execution_count": 10,
   "id": "5befcf34",
   "metadata": {},
   "outputs": [
    {
     "data": {
      "text/plain": [
       "numpy.int32"
      ]
     },
     "execution_count": 10,
     "metadata": {},
     "output_type": "execute_result"
    }
   ],
   "source": [
    "# 最初の要素の型\n",
    "type(data[0])"
   ]
  },
  {
   "cell_type": "markdown",
   "id": "44a8f365",
   "metadata": {},
   "source": [
    "astypeで要素型を変換できる。"
   ]
  },
  {
   "cell_type": "code",
   "execution_count": 11,
   "id": "dd4b53b0",
   "metadata": {},
   "outputs": [
    {
     "data": {
      "text/plain": [
       "array([10, 20, 30])"
      ]
     },
     "execution_count": 11,
     "metadata": {},
     "output_type": "execute_result"
    }
   ],
   "source": [
    "# int型の配列を作成\n",
    "data = np.array([10,20,30])\n",
    "data"
   ]
  },
  {
   "cell_type": "code",
   "execution_count": 12,
   "id": "3cd4ab61",
   "metadata": {},
   "outputs": [
    {
     "data": {
      "text/plain": [
       "array([10., 20., 30.])"
      ]
     },
     "execution_count": 12,
     "metadata": {},
     "output_type": "execute_result"
    }
   ],
   "source": [
    "# dtypeがintの配列から、floatへ変換した配列を作成\n",
    "data_f = data.astype(np.float64)\n",
    "data_f"
   ]
  },
  {
   "cell_type": "markdown",
   "id": "0d1e434b",
   "metadata": {},
   "source": [
    "### ■配列のデータ属性\n",
    "配列はデータ属性を持つ。データ属性の例は以下のとおり。\n",
    "\n",
    "|属性|意味|\n",
    "|:----|:----|\n",
    "|data.dtype|配列「data」の要素型を確認する|\n",
    "|data.shape|配列「data」の形状を確認する|\n",
    "|data.T|配列「data」を転置した配列（行と列を入れ替える）を求める|"
   ]
  },
  {
   "cell_type": "code",
   "execution_count": 13,
   "id": "d2bdc94b",
   "metadata": {},
   "outputs": [
    {
     "name": "stdout",
     "output_type": "stream",
     "text": [
      "int32\n"
     ]
    }
   ],
   "source": [
    "# dtypeでも要素型の確認が可能\n",
    "data = np.array([11,12,13,21,22,23])\n",
    "\n",
    "# dtype\n",
    "print(data.dtype)"
   ]
  },
  {
   "cell_type": "code",
   "execution_count": 14,
   "id": "11172bc7",
   "metadata": {},
   "outputs": [
    {
     "name": "stdout",
     "output_type": "stream",
     "text": [
      "(2, 3)\n"
     ]
    }
   ],
   "source": [
    "# １次元配列→２次元配列\n",
    "data2 = data.reshape(2,3)\n",
    "\n",
    "# shape\n",
    "print(data2.shape)"
   ]
  },
  {
   "cell_type": "code",
   "execution_count": 15,
   "id": "feaf39a5",
   "metadata": {},
   "outputs": [
    {
     "name": "stdout",
     "output_type": "stream",
     "text": [
      "[[11 12 13]\n",
      " [21 22 23]]\n",
      "[[11 21]\n",
      " [12 22]\n",
      " [13 23]]\n"
     ]
    }
   ],
   "source": [
    "# T\n",
    "data_t = data2.T\n",
    "# 転置前\n",
    "print(data2)\n",
    "# 転置後\n",
    "print(data_t)"
   ]
  },
  {
   "cell_type": "markdown",
   "id": "34bbbf0d",
   "metadata": {},
   "source": [
    "### ■配列要素の生成\n",
    "数値が連続した配列を関数により自動生成することができる。<br>"
   ]
  },
  {
   "cell_type": "markdown",
   "id": "d2cb00a5",
   "metadata": {},
   "source": [
    "#### ・arange\n",
    "arangeは、連番や等差数列を生成することができる。引数は、以下のとおり。<br>\n",
    "・開始値（省略可でデフォルト：0）<br>\n",
    "・終了値（指定した値は含まれない）<br>\n",
    "・間隔（省略可でデフォルト：1）<br>"
   ]
  },
  {
   "cell_type": "code",
   "execution_count": 16,
   "id": "6805bdf0",
   "metadata": {},
   "outputs": [
    {
     "name": "stdout",
     "output_type": "stream",
     "text": [
      "[0 1 2 3 4 5 6 7 8 9]\n",
      "[1.   1.25 1.5  1.75]\n"
     ]
    }
   ],
   "source": [
    "# range(10)の配列\n",
    "print(np.arange(10)) \n",
    "\n",
    "# 開始値「1」、終了値「2」、間隔「0.25」\n",
    "print(np.arange(1, 2, 0.25)) "
   ]
  },
  {
   "cell_type": "markdown",
   "id": "f2fd37f4",
   "metadata": {},
   "source": [
    "reshapeを使用し、生成した配列を多次元配列に変換することもできる。"
   ]
  },
  {
   "cell_type": "code",
   "execution_count": 17,
   "id": "d3f895c1",
   "metadata": {},
   "outputs": [
    {
     "data": {
      "text/plain": [
       "array([[ 0,  1,  2],\n",
       "       [ 3,  4,  5],\n",
       "       [ 6,  7,  8],\n",
       "       [ 9, 10, 11],\n",
       "       [12, 13, 14]])"
      ]
     },
     "execution_count": 17,
     "metadata": {},
     "output_type": "execute_result"
    }
   ],
   "source": [
    "# 0～14の配列を5行、3列に変換\n",
    "np.arange(15).reshape(5,3)"
   ]
  },
  {
   "cell_type": "markdown",
   "id": "f3516462",
   "metadata": {},
   "source": [
    "#### ・linspace\n",
    "linspaceは、範囲を等分割した等差数列を生成する。引数は以下のとおり。<br>\n",
    "・開始値<br>\n",
    "・終了値（指定した値を含む）<br>\n",
    "・要素数<br>"
   ]
  },
  {
   "cell_type": "code",
   "execution_count": 18,
   "id": "54543ee8",
   "metadata": {},
   "outputs": [
    {
     "name": "stdout",
     "output_type": "stream",
     "text": [
      "[1.   1.25 1.5  1.75 2.  ]\n"
     ]
    }
   ],
   "source": [
    "# 開始値「1」、終了値「2」、要素数「5」\n",
    "print(np.linspace(1, 2, 5)) "
   ]
  },
  {
   "cell_type": "markdown",
   "id": "ec1a7cc5",
   "metadata": {},
   "source": [
    "#### ・random.rand\n",
    "random.randは、0 以上 1 未満のランダムな値（乱数）の配列を生成する。<br>\n",
    "引数は、配列の形状（負の整数は不可）。<br>\n",
    "※set_printoptions(precision=桁数)で、小数点以下の表示桁数の指定が可能"
   ]
  },
  {
   "cell_type": "code",
   "execution_count": 19,
   "id": "ff894b74",
   "metadata": {},
   "outputs": [
    {
     "name": "stdout",
     "output_type": "stream",
     "text": [
      "[0.52 0.42 0.83 0.98 0.29 0.56 0.07 0.59 0.11 0.43]\n",
      "[[0.05 0.13 0.74 0.51 0.63 0.68 0.54 0.72 0.9  0.36]\n",
      " [0.5  0.57 0.04 0.24 0.65 0.36 0.15 0.98 0.99 0.84]]\n"
     ]
    }
   ],
   "source": [
    "# 小数点以下２桁を表示\n",
    "np.set_printoptions(precision=2) \n",
    "\n",
    "# 1次元配列\n",
    "print(np.random.rand(10))\n",
    "\n",
    "# 2次元配列(2行、10列)\n",
    "print(np.random.rand(2,10))"
   ]
  },
  {
   "cell_type": "markdown",
   "id": "0c2ba914",
   "metadata": {},
   "source": [
    "#### ・random.randn\n",
    "random.randnは、正規分布の乱数からなる配列を生成する。<br>\n",
    "※他には、二項分布、ポアソン分布、ベータ分布などがある。"
   ]
  },
  {
   "cell_type": "markdown",
   "id": "6a542614",
   "metadata": {},
   "source": [
    "10000件の正規分布の乱数の配列をヒストグラムとして出力し、生成状況を確認する。"
   ]
  },
  {
   "cell_type": "code",
   "execution_count": 20,
   "id": "f4cd273f",
   "metadata": {},
   "outputs": [],
   "source": [
    "# グラフ参考表示用のmatplotlibのインポート\n",
    "import matplotlib.pyplot as plt"
   ]
  },
  {
   "cell_type": "code",
   "execution_count": 21,
   "id": "6430c4e4",
   "metadata": {},
   "outputs": [
    {
     "data": {
      "image/png": "[encoded data removed]",
      "text/plain": [
       "<Figure size 432x288 with 1 Axes>"
      ]
     },
     "metadata": {
      "needs_background": "light"
     },
     "output_type": "display_data"
    }
   ],
   "source": [
    "# random.randn（正規分布）\n",
    "data = np.random.randn(10000)\n",
    "plt.hist(data, bins=15)\n",
    "plt.show()"
   ]
  },
  {
   "cell_type": "markdown",
   "id": "77f206da",
   "metadata": {},
   "source": [
    "### ■配列要素のスライス\n",
    "配列のスライスにより、配列の一部分を選択して抽出が可能である。<br>\n",
    "要素は、開始のインデックス番号、終了のインデックス番号、間隔を指定する。<br>\n",
    "（開始のインデックス番号から終了のインデックス番号の前の要素まで抽出）<br>"
   ]
  },
  {
   "cell_type": "code",
   "execution_count": 22,
   "id": "785620c5",
   "metadata": {
    "scrolled": true
   },
   "outputs": [
    {
     "name": "stdout",
     "output_type": "stream",
     "text": [
      "['札幌' '旭川' '函館' '帯広' '釧路']\n"
     ]
    }
   ],
   "source": [
    "# 配列「0：札幌、1：旭川、2：函館、3：帯広、4：釧路」\n",
    "data = np.array(['札幌','旭川','函館','帯広','釧路']) \n",
    "print(data)"
   ]
  },
  {
   "cell_type": "code",
   "execution_count": 23,
   "id": "db668888",
   "metadata": {},
   "outputs": [
    {
     "name": "stdout",
     "output_type": "stream",
     "text": [
      "['旭川' '函館' '帯広']\n"
     ]
    }
   ],
   "source": [
    "# 要素1～3\n",
    "print(data[1:4])"
   ]
  },
  {
   "cell_type": "code",
   "execution_count": 24,
   "id": "7d03fbed",
   "metadata": {},
   "outputs": [
    {
     "name": "stdout",
     "output_type": "stream",
     "text": [
      "['函館' '帯広' '釧路']\n"
     ]
    }
   ],
   "source": [
    "# 要素2～最後の要素まで\n",
    "print(data[2:])"
   ]
  },
  {
   "cell_type": "code",
   "execution_count": 25,
   "id": "944db2c6",
   "metadata": {},
   "outputs": [
    {
     "name": "stdout",
     "output_type": "stream",
     "text": [
      "['札幌' '旭川' '函館']\n"
     ]
    }
   ],
   "source": [
    "# 最初の要素～要素2まで\n",
    "print(data[:3])"
   ]
  },
  {
   "cell_type": "code",
   "execution_count": 26,
   "id": "4d0f1be2",
   "metadata": {},
   "outputs": [
    {
     "name": "stdout",
     "output_type": "stream",
     "text": [
      "['札幌' '旭川' '函館' '帯広']\n"
     ]
    }
   ],
   "source": [
    "# 最初の要素～最後から2つ目まで\n",
    "print(data[:-1])"
   ]
  },
  {
   "cell_type": "code",
   "execution_count": 27,
   "id": "2a9c22c5",
   "metadata": {},
   "outputs": [
    {
     "name": "stdout",
     "output_type": "stream",
     "text": [
      "['札幌' '函館' '釧路']\n"
     ]
    }
   ],
   "source": [
    "# 最初の要素～最後の要素まで1つ置き\n",
    "print(data[::2])"
   ]
  },
  {
   "cell_type": "code",
   "execution_count": 28,
   "id": "131c6147",
   "metadata": {},
   "outputs": [
    {
     "name": "stdout",
     "output_type": "stream",
     "text": [
      "['釧路' '帯広' '函館' '旭川' '札幌']\n"
     ]
    }
   ],
   "source": [
    "# 配列を逆順にする\n",
    "print(data[::-1])"
   ]
  }
 ],
 "metadata": {
  "kernelspec": {
   "display_name": "Python 3 (ipykernel)",
   "language": "python",
   "name": "python3"
  },
  "language_info": {
   "codemirror_mode": {
    "name": "ipython",
    "version": 3
   },
   "file_extension": ".py",
   "mimetype": "text/x-python",
   "name": "python",
   "nbconvert_exporter": "python",
   "pygments_lexer": "ipython3",
   "version": "3.9.4"
  }
 },
 "nbformat": 4,
 "nbformat_minor": 5
}
