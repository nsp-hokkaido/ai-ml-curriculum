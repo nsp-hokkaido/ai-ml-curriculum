{
 "cells": [
  {
   "cell_type": "markdown",
   "id": "7b49a2cf",
   "metadata": {},
   "source": [
    "# ***NumPy***\n",
    "---\n",
    "NumPyは、数値計算を高速、効率的に行うためのライブラリ。<br>\n",
    "・多次元配列の処理を高速に処理できる。<br>\n",
    "・乱数の生成、統計処理などの科学技術計算を効率的に処理できる。<br>\n",
    "上記のメリットがあり、AIに欠かせない機械学習、ディープラーニングで扱う大規模なデータ処理に適しているため、必須のライブラリとなっている。"
   ]
  },
  {
   "cell_type": "markdown",
   "id": "1547f3d6",
   "metadata": {},
   "source": [
    "### ■Numpyの使用\n",
    "NumPyを利用するために、インポートする。<br>"
   ]
  },
  {
   "cell_type": "code",
   "execution_count": 1,
   "id": "e0f9e09f",
   "metadata": {},
   "outputs": [],
   "source": [
    "import numpy as np"
   ]
  },
  {
   "cell_type": "markdown",
   "id": "2b3bc63f",
   "metadata": {},
   "source": [
    "### ■配列の作成\n",
    "arrayで配列を作成できる。<br>"
   ]
  },
  {
   "cell_type": "code",
   "execution_count": 2,
   "id": "5afea72a",
   "metadata": {},
   "outputs": [
    {
     "name": "stdout",
     "output_type": "stream",
     "text": [
      "['札幌' '旭川' '函館' '帯広' '釧路']\n"
     ]
    }
   ],
   "source": [
    "# リストから配列を作成\n",
    "data = np.array(['札幌','旭川','函館','帯広','釧路']) \n",
    "print(data)"
   ]
  },
  {
   "cell_type": "markdown",
   "id": "12159353",
   "metadata": {},
   "source": [
    "### ■配列の型\n",
    "NumPyで作成した配列の型は「numpy.ndarray」となる。"
   ]
  },
  {
   "cell_type": "code",
   "execution_count": 3,
   "id": "854e14ef",
   "metadata": {},
   "outputs": [
    {
     "data": {
      "text/plain": [
       "numpy.ndarray"
      ]
     },
     "execution_count": 3,
     "metadata": {},
     "output_type": "execute_result"
    }
   ],
   "source": [
    " # 配列の型 ※typeで確認\n",
    "type(np.array(['札幌','旭川','函館','帯広','釧路']))"
   ]
  },
  {
   "cell_type": "code",
   "execution_count": 4,
   "id": "4b8e6a42",
   "metadata": {},
   "outputs": [
    {
     "data": {
      "text/plain": [
       "int"
      ]
     },
     "execution_count": 4,
     "metadata": {},
     "output_type": "execute_result"
    }
   ],
   "source": [
    "# 他のtypeの結果例\n",
    "type(1)"
   ]
  },
  {
   "cell_type": "code",
   "execution_count": 5,
   "id": "755390ee",
   "metadata": {},
   "outputs": [
    {
     "data": {
      "text/plain": [
       "str"
      ]
     },
     "execution_count": 5,
     "metadata": {},
     "output_type": "execute_result"
    }
   ],
   "source": [
    "type('いち')"
   ]
  },
  {
   "cell_type": "code",
   "execution_count": 6,
   "id": "5d9ab3d7",
   "metadata": {},
   "outputs": [
    {
     "data": {
      "text/plain": [
       "bool"
      ]
     },
     "execution_count": 6,
     "metadata": {},
     "output_type": "execute_result"
    }
   ],
   "source": [
    "type(True)"
   ]
  },
  {
   "cell_type": "markdown",
   "id": "2081c42e",
   "metadata": {},
   "source": [
    "### ■配列の要素型\n",
    "配列の要素には複数の型がある。要素の例は以下のとおり。<br>\n",
    "※異なる型の要素の混在は不可。"
   ]
  },
  {
   "cell_type": "markdown",
   "id": "85c1fbf8",
   "metadata": {},
   "source": [
    "\n",
    "|型名|説明|備考|\n",
    "|:----|:----|:----|\n",
    "|numpy.int32|符号付き整数型（32ビット）||\n",
    "|numpy.float64|浮動小数点数型（64ビット） |小数点が付与されて印字される|\n",
    "|numpy.bool|ブール型|数値から真理値への変換では、0 が False で、0 以外が True になる|\n",
    "|numpy.object|Pythonオブジェクト型||"
   ]
  },
  {
   "cell_type": "markdown",
   "id": "43070b0d",
   "metadata": {},
   "source": [
    "arrayで指定した要素型の配列を作成できる。"
   ]
  },
  {
   "cell_type": "code",
   "execution_count": 7,
   "id": "423b0ce2",
   "metadata": {},
   "outputs": [
    {
     "name": "stdout",
     "output_type": "stream",
     "text": [
      "[10]\n"
     ]
    }
   ],
   "source": [
    "# dtypeにnp.int32\n",
    "print(np.array([10], dtype='int32'))"
   ]
  },
  {
   "cell_type": "code",
   "execution_count": 8,
   "id": "d461ff38",
   "metadata": {},
   "outputs": [
    {
     "name": "stdout",
     "output_type": "stream",
     "text": [
      "[10.]\n"
     ]
    }
   ],
   "source": [
    "# dtypeにnp.float64\n",
    "print(np.array([10], dtype='float64')) "
   ]
  },
  {
   "cell_type": "code",
   "execution_count": 9,
   "id": "5befcf34",
   "metadata": {},
   "outputs": [
    {
     "name": "stdout",
     "output_type": "stream",
     "text": [
      "[False  True]\n"
     ]
    }
   ],
   "source": [
    "# dtypeにnp.bool\n",
    "print(np.array([0,100], dtype='bool'))"
   ]
  },
  {
   "cell_type": "code",
   "execution_count": 10,
   "id": "592fe748",
   "metadata": {
    "scrolled": true
   },
   "outputs": [
    {
     "name": "stdout",
     "output_type": "stream",
     "text": [
      "[10 'ten']\n"
     ]
    }
   ],
   "source": [
    "# dtypeにnp.object\n",
    "print(np.array([10,'ten'], dtype='object'))"
   ]
  },
  {
   "cell_type": "markdown",
   "id": "44a8f365",
   "metadata": {},
   "source": [
    "astypeで要素型を変換できる。"
   ]
  },
  {
   "cell_type": "code",
   "execution_count": 11,
   "id": "dd4b53b0",
   "metadata": {},
   "outputs": [
    {
     "data": {
      "text/plain": [
       "array([10, 20, 30])"
      ]
     },
     "execution_count": 11,
     "metadata": {},
     "output_type": "execute_result"
    }
   ],
   "source": [
    "# int型の配列を作成\n",
    "data = np.array([10,20,30])\n",
    "data"
   ]
  },
  {
   "cell_type": "code",
   "execution_count": 12,
   "id": "3cd4ab61",
   "metadata": {},
   "outputs": [
    {
     "data": {
      "text/plain": [
       "array([10., 20., 30.], dtype=float32)"
      ]
     },
     "execution_count": 12,
     "metadata": {},
     "output_type": "execute_result"
    }
   ],
   "source": [
    "# dtypeがintの配列から、floatへ変換した配列を作成\n",
    "data_f = data.astype(np.float32)\n",
    "data_f"
   ]
  },
  {
   "cell_type": "markdown",
   "id": "4048292e",
   "metadata": {},
   "source": [
    "### ■2次元配列\n",
    "2次元配列は、配列要素が縦横（行と列）に並ぶ配列である。"
   ]
  },
  {
   "cell_type": "code",
   "execution_count": 13,
   "id": "e45e7d5c",
   "metadata": {
    "scrolled": false
   },
   "outputs": [
    {
     "name": "stdout",
     "output_type": "stream",
     "text": [
      "[[11 12 13 14 15]\n",
      " [21 22 23 24 25]]\n"
     ]
    }
   ],
   "source": [
    "# 2次元配列\n",
    "print(np.array([[11,12,13,14,15],[21,22,23,24,25]]))"
   ]
  },
  {
   "cell_type": "markdown",
   "id": "78e15929",
   "metadata": {},
   "source": [
    "行の長さが異なる場合、2次元配列とはならず、エラーとなる。"
   ]
  },
  {
   "cell_type": "code",
   "execution_count": 14,
   "id": "17058039",
   "metadata": {
    "scrolled": false
   },
   "outputs": [
    {
     "name": "stdout",
     "output_type": "stream",
     "text": [
      "[list([11, 12, 13, 14, 15]) list([21, 22, 23, 24])]\n"
     ]
    },
    {
     "name": "stderr",
     "output_type": "stream",
     "text": [
      "C:\\Users\\kita_m\\AppData\\Local\\Temp/ipykernel_1360/1001397673.py:2: VisibleDeprecationWarning: Creating an ndarray from ragged nested sequences (which is a list-or-tuple of lists-or-tuples-or ndarrays with different lengths or shapes) is deprecated. If you meant to do this, you must specify 'dtype=object' when creating the ndarray.\n",
      "  print(np.array([[11,12,13,14,15],\n"
     ]
    }
   ],
   "source": [
    "# 行の長さが異なる\n",
    "print(np.array([[11,12,13,14,15],\n",
    "                [21,22,23,24]]))"
   ]
  },
  {
   "cell_type": "markdown",
   "id": "4ccf15b7",
   "metadata": {},
   "source": [
    "reshapeで、1次元配列を引数で指定された形の多次元配列に変換することができる。"
   ]
  },
  {
   "cell_type": "code",
   "execution_count": 15,
   "id": "9e9a61c5",
   "metadata": {
    "scrolled": true
   },
   "outputs": [
    {
     "name": "stdout",
     "output_type": "stream",
     "text": [
      "[[11 12 13 14 15]\n",
      " [21 22 23 24 25]]\n"
     ]
    }
   ],
   "source": [
    "#１次元配列\n",
    "data1 = np.array([11,12,13,14,15,21,22,23,24,25])\n",
    "\n",
    "#２次元配列（2行、5列）\n",
    "data2 = data1.reshape(2,5)\n",
    "print(data2)"
   ]
  },
  {
   "cell_type": "code",
   "execution_count": 16,
   "id": "d9cea2c7",
   "metadata": {},
   "outputs": [
    {
     "name": "stdout",
     "output_type": "stream",
     "text": [
      "[[11 12 13]\n",
      " [21 22 23]\n",
      " [31 32 33]]\n"
     ]
    }
   ],
   "source": [
    "#１次元配列\n",
    "data1 = np.array([11,12,13,21,22,23,31,32,33])\n",
    "\n",
    "#３次元配列（3行、3列）\n",
    "data2 = data1.reshape(3,3)\n",
    "print(data2)"
   ]
  },
  {
   "cell_type": "markdown",
   "id": "0d1e434b",
   "metadata": {},
   "source": [
    "### ■配列のデータ属性\n",
    "配列はデータ属性を持つ。データ属性の例は以下のとおり。\n",
    "\n",
    "|属性|意味|\n",
    "|:----|:----|\n",
    "|data.dtype|配列「data」の要素型を確認する|\n",
    "|data.shape|配列「data」の要素数を確認する|\n",
    "|data.T|配列「data」を転置した配列（行と列を入れ替える）を求める|"
   ]
  },
  {
   "cell_type": "code",
   "execution_count": 17,
   "id": "d2bdc94b",
   "metadata": {},
   "outputs": [
    {
     "name": "stdout",
     "output_type": "stream",
     "text": [
      "int32\n"
     ]
    }
   ],
   "source": [
    "data = np.array([11,12,13,21,22,23])\n",
    "# dtype\n",
    "print(data.dtype)"
   ]
  },
  {
   "cell_type": "code",
   "execution_count": 18,
   "id": "11172bc7",
   "metadata": {},
   "outputs": [
    {
     "name": "stdout",
     "output_type": "stream",
     "text": [
      "(6,)\n"
     ]
    }
   ],
   "source": [
    "# shape\n",
    "print(data.shape)"
   ]
  },
  {
   "cell_type": "code",
   "execution_count": 19,
   "id": "feaf39a5",
   "metadata": {},
   "outputs": [
    {
     "name": "stdout",
     "output_type": "stream",
     "text": [
      "[[11 12 13]\n",
      " [21 22 23]]\n",
      "[[11 21]\n",
      " [12 22]\n",
      " [13 23]]\n"
     ]
    }
   ],
   "source": [
    "# T\n",
    "data2 = data.reshape(2,3)\n",
    "data_t = data2.T\n",
    "# 転置前\n",
    "print(data2)\n",
    "# 転置後\n",
    "print(data_t)"
   ]
  },
  {
   "cell_type": "markdown",
   "id": "34bbbf0d",
   "metadata": {},
   "source": [
    "### ■配列要素を生成する関数\n",
    "数値が連続した配列を関数により自動生成することができる。<br>"
   ]
  },
  {
   "cell_type": "markdown",
   "id": "d2cb00a5",
   "metadata": {},
   "source": [
    "#### ・arange\n",
    "arangeは、連番や等差数列を生成することができる。引数は、以下のとおり。<br>\n",
    "・開始値（省略可でデフォルト：0）<br>\n",
    "・終了値<br>\n",
    "・間隔（省略可でデフォルト：1）<br>"
   ]
  },
  {
   "cell_type": "code",
   "execution_count": 20,
   "id": "6805bdf0",
   "metadata": {},
   "outputs": [
    {
     "name": "stdout",
     "output_type": "stream",
     "text": [
      "[0 1 2 3 4 5 6 7 8 9]\n",
      "[1.   1.25 1.5  1.75]\n"
     ]
    }
   ],
   "source": [
    "# range(10)の配列\n",
    "print(np.arange(10)) \n",
    "\n",
    "# 開始値「1」、終了値「2」、間隔「0.25」\n",
    "print(np.arange(1, 2, 0.25)) "
   ]
  },
  {
   "cell_type": "markdown",
   "id": "f2fd37f4",
   "metadata": {},
   "source": [
    "reshapeを使用し、生成した配列を多次元配列に変換することもできる。"
   ]
  },
  {
   "cell_type": "code",
   "execution_count": 21,
   "id": "d3f895c1",
   "metadata": {},
   "outputs": [
    {
     "data": {
      "text/plain": [
       "array([[ 0,  1,  2],\n",
       "       [ 3,  4,  5],\n",
       "       [ 6,  7,  8],\n",
       "       [ 9, 10, 11],\n",
       "       [12, 13, 14]])"
      ]
     },
     "execution_count": 21,
     "metadata": {},
     "output_type": "execute_result"
    }
   ],
   "source": [
    "# 0～14の配列を5行、3列に変換\n",
    "np.arange(15).reshape(5,3)"
   ]
  },
  {
   "cell_type": "markdown",
   "id": "f3516462",
   "metadata": {},
   "source": [
    "#### ・linspace\n",
    "linspaceは、範囲を等分割した等差数列を生成する。引数は以下のとおり。<br>\n",
    "・開始値<br>\n",
    "・終了値<br>\n",
    "・要素数<br>"
   ]
  },
  {
   "cell_type": "code",
   "execution_count": 22,
   "id": "54543ee8",
   "metadata": {},
   "outputs": [
    {
     "name": "stdout",
     "output_type": "stream",
     "text": [
      "[1.   1.25 1.5  1.75 2.  ]\n"
     ]
    }
   ],
   "source": [
    "# 開始値「1」、終了値「2」、要素数「5」\n",
    "print(np.linspace(1, 2, 5)) "
   ]
  },
  {
   "cell_type": "markdown",
   "id": "ec1a7cc5",
   "metadata": {},
   "source": [
    "#### ・random.rand\n",
    "random.randは、0 以上 1 未満のランダムな値（乱数）の配列を生成する。<br>\n",
    "引数は、配列の次元数（負の整数は不可）。<br>"
   ]
  },
  {
   "cell_type": "code",
   "execution_count": 23,
   "id": "ff894b74",
   "metadata": {},
   "outputs": [
    {
     "name": "stdout",
     "output_type": "stream",
     "text": [
      "[0.849548   0.31801426 0.89449978 0.69814669 0.40366944 0.70194147\n",
      " 0.60390336 0.33594512 0.14692041 0.26971492]\n",
      "[[0.76340385 0.05354435 0.03723719 0.87017451 0.05934854 0.16146228\n",
      "  0.90247227 0.2334076  0.45298703 0.47172014]\n",
      " [0.64687177 0.05036816 0.68900729 0.51092149 0.08683434 0.58205016\n",
      "  0.96308924 0.84273443 0.96466024 0.57101925]]\n"
     ]
    }
   ],
   "source": [
    "# 1次元配列\n",
    "print(np.random.rand(10))\n",
    "\n",
    "# 2次元配列を(2行、10列)\n",
    "print(np.random.rand(2,10))"
   ]
  },
  {
   "cell_type": "markdown",
   "id": "0c2ba914",
   "metadata": {},
   "source": [
    "他の乱数からなる配列を生成する関数は以下のとおり。<br>\n",
    "・random.randn()関数は、正規分布の乱数からなる配列。<br>\n",
    "・random.binomial()関数は、二項分布の乱数からなる配列。<br>\n",
    "※上記以外に、ポアソン分布やベータ分布などがある。"
   ]
  },
  {
   "cell_type": "code",
   "execution_count": 24,
   "id": "f4cd273f",
   "metadata": {},
   "outputs": [],
   "source": [
    "# グラフ参考表示用のmatplotlibのインポート\n",
    "import matplotlib.pyplot as plt\n",
    "# 「%matplotlib inline」は、notebook内でグラフを表示するために必要\n",
    "%matplotlib inline"
   ]
  },
  {
   "cell_type": "code",
   "execution_count": 25,
   "id": "6430c4e4",
   "metadata": {},
   "outputs": [
    {
     "name": "stdout",
     "output_type": "stream",
     "text": [
      "[ 0.46464629  1.38597694 -1.49493404 -0.54370583 -0.55393952  0.06203571\n",
      " -1.38821367  0.42396037 -0.5059314  -1.52009191  0.73890668 -0.63597703\n",
      " -0.65318302  1.30923933 -0.60348759  1.83916157 -1.12003759 -1.47775451\n",
      "  2.74633317  0.04267129  0.11107359 -0.30898607 -0.86339101 -0.03022431\n",
      "  0.49439102  2.27095724  0.13674373 -1.58490314 -0.30631304  0.34836077\n",
      "  0.71328843 -0.29193035  0.415437    2.02170654  0.62749542 -0.03062386\n",
      " -0.37826869 -0.31252069 -0.5815955  -0.47356941 -0.37106623 -0.06247017\n",
      "  1.12571899  0.79616715 -0.56000079  1.80569628 -2.13993429 -1.56992533\n",
      " -0.33256798  0.04329502 -0.39174195 -1.15454305 -2.56169201  0.72597309\n",
      "  0.21698634  0.27046258 -0.45407362  0.17903999 -1.14458154 -1.03167972\n",
      "  0.1713941  -0.91686231  1.38860634  0.83494824 -0.88006121 -1.06490893\n",
      " -1.34385415 -0.79317005  1.32509644  0.17668538 -0.8286619  -0.89763215\n",
      " -0.91260168 -0.55216853 -1.02120554  1.66191911  0.12341096 -0.33188451\n",
      "  0.85018542  0.4927966  -0.95746517 -0.47277317  0.03699306 -0.08571489\n",
      "  0.84273268 -0.0142165  -0.45192651 -1.5824026  -1.16326082  1.30338512\n",
      " -0.10225333 -1.52190061 -0.8411284  -0.21952298 -0.2159082  -0.39173156\n",
      "  1.69447867  0.99958995 -0.45949396 -1.48329523]\n"
     ]
    },
    {
     "data": {
      "image/png": "[encoded data removed]",
      "text/plain": [
       "<Figure size 432x288 with 1 Axes>"
      ]
     },
     "metadata": {
      "needs_background": "light"
     },
     "output_type": "display_data"
    }
   ],
   "source": [
    "# random.randn（正規分布）\n",
    "data = np.random.randn(100)\n",
    "print(data)\n",
    "plt.hist(data, bins=10); "
   ]
  },
  {
   "cell_type": "code",
   "execution_count": 26,
   "id": "c6c65bdf",
   "metadata": {},
   "outputs": [
    {
     "name": "stdout",
     "output_type": "stream",
     "text": [
      "[ 5  5  4  3  7  9  6  6 10 10  5  3  9  7  4  4  5  7  8  3  7  4  6 10\n",
      "  7  7  8 10  8  9  6  9  4  4  3  7 11  5  4  4  4  4  6  3  9  4  5  5\n",
      "  6 10  7  2  4  7  5  5  4  5  5  7  7  2  4  7  3  8  6  6  4  6  4  8\n",
      "  6  4  6  8  7 10  6  9  3  7  8  3  6  7  6  5  8 11  9  8  2  4  6  5\n",
      "  7  5  6  6  4  6  4  6  6  4  2  3 11  8  4  5  5  6  4  8  3  7  5 11\n",
      "  9  8  4  6  4  5  8  5  3  4  5  9  9  6  5  6  4  5  7  3  4  2  3  7\n",
      "  9  3  4  7  6  9 10  5  7  7  2  5  7  6  5  7  6  5  9  6  9  4  7  3\n",
      "  6  7 10  5  6  5  6  7  6  4  5 10  7  6  2  5  7  6 12  7  4  4 10  6\n",
      "  9  8  7  6  8 13 11  5 10  8  6  7  6  8  8  7  6  8  6  6  8  4  3  5\n",
      "  6  4  8  3  6  6  5  9  8  4  6  5  3  8 10  6  9  8  8  5  4  2 10  7\n",
      "  7  4 12  6  4  1  9  7  8  9  3  6  4  3  5  6  9  7  4  5  5  6  5  9\n",
      "  7  7  8 10  4  5  6 10  6 10  7  8  4  7  6  7  6  2  7  7  5  4  6  7\n",
      "  6  6  8  5  8  9  4  5  5  4  6  5]\n"
     ]
    },
    {
     "data": {
      "image/png": "[encoded data removed]",
      "text/plain": [
       "<Figure size 432x288 with 1 Axes>"
      ]
     },
     "metadata": {
      "needs_background": "light"
     },
     "output_type": "display_data"
    }
   ],
   "source": [
    "# random.binomial（二項分布）\n",
    "# 36回サイコロを投げた場合、１が出る回数（試行回数：36, 確率：1/6, サンプル数：300）\n",
    "data = np.random.binomial(36, 1/6, 300)\n",
    "print(data)\n",
    "plt.hist(data, bins=10); "
   ]
  },
  {
   "cell_type": "markdown",
   "id": "e32819ca",
   "metadata": {},
   "source": [
    "### ■配列要素の操作\n",
    "要素の値や部分的な配列の取得、選択した要素や範囲へ値・配列を代入することができる。"
   ]
  },
  {
   "cell_type": "markdown",
   "id": "af28301e",
   "metadata": {},
   "source": [
    "#### ・インデックスの指定\n",
    "要素のインデックス番号を指定する。<br>\n",
    "先頭の要素は「0」、最後の要素は「-1」。"
   ]
  },
  {
   "cell_type": "code",
   "execution_count": 27,
   "id": "16f3e645",
   "metadata": {},
   "outputs": [
    {
     "name": "stdout",
     "output_type": "stream",
     "text": [
      "[0 1 2 3 4 5 6 7 8 9]\n"
     ]
    }
   ],
   "source": [
    "data = np.arange(10)\n",
    "print(data)"
   ]
  },
  {
   "cell_type": "code",
   "execution_count": 28,
   "id": "437f89b9",
   "metadata": {},
   "outputs": [
    {
     "name": "stdout",
     "output_type": "stream",
     "text": [
      "0\n",
      "2\n",
      "9\n"
     ]
    }
   ],
   "source": [
    "# 要素 0（先頭）\n",
    "print(data[0])\n",
    "\n",
    "# 要素 2（3番目）\n",
    "print(data[2])\n",
    "\n",
    "# 要素 -1（最後）\n",
    "print(data[-1])"
   ]
  },
  {
   "cell_type": "markdown",
   "id": "8d6989a6",
   "metadata": {},
   "source": [
    "2次元配列の場合は、行のインデックス番号と列のインデックス番号を指定する。"
   ]
  },
  {
   "cell_type": "code",
   "execution_count": 29,
   "id": "db785bf7",
   "metadata": {},
   "outputs": [
    {
     "name": "stdout",
     "output_type": "stream",
     "text": [
      "[[ 0  1  2  3]\n",
      " [ 4  5  6  7]\n",
      " [ 8  9 10 11]]\n"
     ]
    }
   ],
   "source": [
    "data = np.arange(12).reshape(3,4)\n",
    "print(data)"
   ]
  },
  {
   "cell_type": "code",
   "execution_count": 30,
   "id": "9b154d2e",
   "metadata": {},
   "outputs": [
    {
     "name": "stdout",
     "output_type": "stream",
     "text": [
      "11\n"
     ]
    }
   ],
   "source": [
    "# 要素 2（行）,3（列）を指定\n",
    "print(data[2,3])"
   ]
  },
  {
   "cell_type": "markdown",
   "id": "e75ed1d5",
   "metadata": {},
   "source": [
    "要素への代入は、要素を指定し、値を設定する。"
   ]
  },
  {
   "cell_type": "code",
   "execution_count": 31,
   "id": "1605b4ac",
   "metadata": {},
   "outputs": [
    {
     "name": "stdout",
     "output_type": "stream",
     "text": [
      "[[ 0  1  2  3]\n",
      " [ 4  5 12  7]\n",
      " [ 8  9 10 11]]\n"
     ]
    }
   ],
   "source": [
    "# 要素 1（行）,2（列）へ12を代入\n",
    "data[1,2] = 12\n",
    "print(data)"
   ]
  },
  {
   "cell_type": "markdown",
   "id": "77f206da",
   "metadata": {},
   "source": [
    "#### ・スライス\n",
    "配列のスライスにより、配列の一部分を選択して抽出、または、別の値の代入が可能である。<br>\n",
    "要素は、開始のインデックス番号、終了のインデックス番号、間隔を指定する。<br>\n",
    "（開始のインデックス番号から終了のインデックス番号の前の要素まで抽出）<br>"
   ]
  },
  {
   "cell_type": "code",
   "execution_count": 32,
   "id": "785620c5",
   "metadata": {
    "scrolled": true
   },
   "outputs": [
    {
     "name": "stdout",
     "output_type": "stream",
     "text": [
      "['札幌' '旭川' '函館' '帯広' '釧路']\n"
     ]
    }
   ],
   "source": [
    "# 配列「0：札幌、1：旭川、2：函館、3：帯広、4：釧路」\n",
    "data = np.array(['札幌','旭川','函館','帯広','釧路']) \n",
    "print(data)"
   ]
  },
  {
   "cell_type": "code",
   "execution_count": 33,
   "id": "db668888",
   "metadata": {},
   "outputs": [
    {
     "name": "stdout",
     "output_type": "stream",
     "text": [
      "['旭川' '函館' '帯広']\n"
     ]
    }
   ],
   "source": [
    "# 要素1～3\n",
    "print(data[1:4])"
   ]
  },
  {
   "cell_type": "code",
   "execution_count": 34,
   "id": "95c748bb",
   "metadata": {},
   "outputs": [
    {
     "name": "stdout",
     "output_type": "stream",
     "text": [
      "['札幌' '函館']\n"
     ]
    }
   ],
   "source": [
    "# 要素0～3を1つ置き\n",
    "print(data[0:4:2])"
   ]
  },
  {
   "cell_type": "code",
   "execution_count": 35,
   "id": "7d03fbed",
   "metadata": {},
   "outputs": [
    {
     "name": "stdout",
     "output_type": "stream",
     "text": [
      "['函館' '帯広' '釧路']\n"
     ]
    }
   ],
   "source": [
    "# 要素2～\n",
    "print(data[2:])"
   ]
  },
  {
   "cell_type": "code",
   "execution_count": 36,
   "id": "944db2c6",
   "metadata": {},
   "outputs": [
    {
     "name": "stdout",
     "output_type": "stream",
     "text": [
      "['札幌' '旭川' '函館']\n"
     ]
    }
   ],
   "source": [
    "# ～要素2\n",
    "print(data[:3])"
   ]
  },
  {
   "cell_type": "code",
   "execution_count": 37,
   "id": "4d0f1be2",
   "metadata": {},
   "outputs": [
    {
     "name": "stdout",
     "output_type": "stream",
     "text": [
      "['札幌' '旭川' '函館' '帯広']\n"
     ]
    }
   ],
   "source": [
    "# 要素0～3（最後から1つ目の要素の前まで）\n",
    "print(data[:-1])"
   ]
  },
  {
   "cell_type": "code",
   "execution_count": 38,
   "id": "cee743e6",
   "metadata": {
    "scrolled": true
   },
   "outputs": [
    {
     "name": "stdout",
     "output_type": "stream",
     "text": [
      "['札幌' '函館' '釧路']\n"
     ]
    }
   ],
   "source": [
    "# 要素0から1つ置き\n",
    "print(data[::2])"
   ]
  },
  {
   "cell_type": "code",
   "execution_count": 39,
   "id": "131c6147",
   "metadata": {},
   "outputs": [
    {
     "name": "stdout",
     "output_type": "stream",
     "text": [
      "['釧路' '帯広' '函館' '旭川' '札幌']\n"
     ]
    }
   ],
   "source": [
    "# 要素4～0\n",
    "print(data[::-1])"
   ]
  },
  {
   "cell_type": "markdown",
   "id": "06300580",
   "metadata": {},
   "source": [
    "スライスで選択した要素へ右辺の値を代入する。"
   ]
  },
  {
   "cell_type": "code",
   "execution_count": 40,
   "id": "42d7c097",
   "metadata": {},
   "outputs": [
    {
     "name": "stdout",
     "output_type": "stream",
     "text": [
      "['札幌' '旭川' '函館' '帯広' '釧路']\n",
      "['札幌' '苫小' '北見' '稚内' '釧路']\n"
     ]
    }
   ],
   "source": [
    "# 配列「0：札幌、1：旭川、2：函館、3：帯広、4：釧路」\n",
    "data = np.array(['札幌','旭川','函館','帯広','釧路']) \n",
    "print(data)\n",
    "\n",
    "# 配列「1：苫小牧、2：北見、3：稚内」\n",
    "data[1:4] = ['苫小牧','北見','稚内']\n",
    "print(data)"
   ]
  }
 ],
 "metadata": {
  "kernelspec": {
   "display_name": "Python 3 (ipykernel)",
   "language": "python",
   "name": "python3"
  },
  "language_info": {
   "codemirror_mode": {
    "name": "ipython",
    "version": 3
   },
   "file_extension": ".py",
   "mimetype": "text/x-python",
   "name": "python",
   "nbconvert_exporter": "python",
   "pygments_lexer": "ipython3",
   "version": "3.9.4"
  }
 },
 "nbformat": 4,
 "nbformat_minor": 5
}
