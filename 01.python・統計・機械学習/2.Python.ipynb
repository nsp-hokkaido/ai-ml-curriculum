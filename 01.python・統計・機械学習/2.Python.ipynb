{
 "cells": [
  {
   "cell_type": "markdown",
   "id": "f8f5a0bd",
   "metadata": {},
   "source": [
    "# Pythonについて\n",
    "\n",
    "### Pyhtonを学ぶメリット\n",
    "\n",
    "- インタプリタ型言語で初心者が学習しやすい言語です。一方、高度で複雑なプログラミングも可能です。\n",
    "- 数値計算の外部ライブラリ（Numpyなど）、グラフ出力の外部ライブラリ（matplotlibなど）や、データ処理・機械学習の外部ライブラリ（pandas、sklearnなど）が多くの人により開発・公開されています。\n",
    "- 近年、AIや機械学習を目的としてプログラミング言語を学習する人が増えていますが、数学系やデータ分析系のライブラリが豊富に存在しているPythonが選択されることが多く、利用者を増やしています。プログラミング言語の人気ランキングでもPythonは上位に位置しています。\n"
   ]
  },
  {
   "cell_type": "markdown",
   "id": "c7997c76",
   "metadata": {},
   "source": [
    "### 主なデータ型（整数、小数、文字列、bool、日付）\n",
    "- 整数\n",
    "\n",
    "C言語やJavaのint型には桁数の制限がありますが、桁数に制限がありません。\n"
   ]
  },
  {
   "cell_type": "code",
   "execution_count": 103,
   "id": "e7a17f95",
   "metadata": {
    "scrolled": true
   },
   "outputs": [
    {
     "name": "stdout",
     "output_type": "stream",
     "text": [
      "0\n",
      "65536\n",
      "1606938044258990275541962092341162602522202993782792835301376\n"
     ]
    }
   ],
   "source": [
    "# コメントを記述する場合、「#」を記述します\n",
    "\n",
    "# 数値の0を表示\n",
    "print(0)\n",
    "\n",
    "# 2の16乗を計算して表示（「**」はべき乗を計算する演算子です）\n",
    "n = 2 ** 16\n",
    "print(n)\n",
    "\n",
    "# 2の200乗を計算して表示（「**」はべき乗を計算する演算子です）\n",
    "n = 2 ** 200\n",
    "print(n)"
   ]
  },
  {
   "cell_type": "markdown",
   "id": "69ca8ea9",
   "metadata": {},
   "source": [
    "- 小数\n",
    "\n",
    "C言語のdouble型（倍精度浮動小数点数）に相当します。"
   ]
  },
  {
   "cell_type": "code",
   "execution_count": 76,
   "id": "c5a0a1e0",
   "metadata": {},
   "outputs": [
    {
     "name": "stdout",
     "output_type": "stream",
     "text": [
      "3.14\n"
     ]
    }
   ],
   "source": [
    "print(3.14)"
   ]
  },
  {
   "cell_type": "code",
   "execution_count": 77,
   "id": "2877011d",
   "metadata": {},
   "outputs": [
    {
     "name": "stdout",
     "output_type": "stream",
     "text": [
      "0.3333333333333333\n"
     ]
    }
   ],
   "source": [
    "# 1を3で割った値\n",
    "print(1 / 3)"
   ]
  },
  {
   "cell_type": "markdown",
   "id": "8185c7fe",
   "metadata": {},
   "source": [
    "- 文字列\n",
    "\n",
    "シングルクォート（'）かダブルクォート（\"）の間に文字を入力します。\n"
   ]
  },
  {
   "cell_type": "code",
   "execution_count": 7,
   "id": "47029ff3",
   "metadata": {},
   "outputs": [
    {
     "name": "stdout",
     "output_type": "stream",
     "text": [
      "abc\n",
      "xyz\n"
     ]
    }
   ],
   "source": [
    "print(\"abc\")\n",
    "print('xyz')"
   ]
  },
  {
   "cell_type": "markdown",
   "id": "c1ad608b",
   "metadata": {},
   "source": [
    "- 数値の文字列の違い\n",
    "\n",
    "数値と文字列は扱い方が異なります。\n",
    "「1+2」は数値の加算を意味し、「'1' + '2'」は文字列の連結を表します。"
   ]
  },
  {
   "cell_type": "code",
   "execution_count": 59,
   "id": "f835cd31",
   "metadata": {},
   "outputs": [
    {
     "name": "stdout",
     "output_type": "stream",
     "text": [
      "3\n",
      "12\n"
     ]
    }
   ],
   "source": [
    "# 数値の加算と文字列の連結\n",
    "print(1 + 2)\n",
    "print('1' + '2')"
   ]
  },
  {
   "cell_type": "markdown",
   "id": "2af5615b",
   "metadata": {},
   "source": [
    "- bool\n",
    "\n",
    "TrueまたはFlaseで表します\n"
   ]
  },
  {
   "cell_type": "code",
   "execution_count": 104,
   "id": "0f7d042d",
   "metadata": {},
   "outputs": [
    {
     "name": "stdout",
     "output_type": "stream",
     "text": [
      "True\n",
      "False\n",
      "False\n",
      "True\n"
     ]
    }
   ],
   "source": [
    "# 論理型\n",
    "print(True)\n",
    "print(False)\n",
    "print(1 == 0)\n",
    "print(0 == 0)"
   ]
  },
  {
   "cell_type": "markdown",
   "id": "425a8b21",
   "metadata": {},
   "source": [
    "- 日付\n",
    "\n",
    "Pythonで日付を利用する際は、標準ライブラリ「datetime」をインポートします。"
   ]
  },
  {
   "cell_type": "code",
   "execution_count": 67,
   "id": "d397d331",
   "metadata": {},
   "outputs": [
    {
     "name": "stdout",
     "output_type": "stream",
     "text": [
      "2022-02-17 16:16:28.910779\n"
     ]
    }
   ],
   "source": [
    "# 現在日時を表示する\n",
    "\n",
    "import datetime\n",
    "print(datetime.datetime.now())"
   ]
  },
  {
   "cell_type": "code",
   "execution_count": 78,
   "id": "f7df868a",
   "metadata": {},
   "outputs": [
    {
     "name": "stdout",
     "output_type": "stream",
     "text": [
      "2021-02-14\n"
     ]
    }
   ],
   "source": [
    "# 年月日を指定して日付を作成する\n",
    "\n",
    "print(datetime.date(2021, 2, 14))"
   ]
  },
  {
   "cell_type": "code",
   "execution_count": 79,
   "id": "83f6edfd",
   "metadata": {},
   "outputs": [
    {
     "name": "stdout",
     "output_type": "stream",
     "text": [
      "2022-05-31 18:55:30\n"
     ]
    }
   ],
   "source": [
    "# 年月日時分秒を指定して日時を作成する\n",
    "\n",
    "print(datetime.datetime(2022, 5, 31, 18, 55, 30))"
   ]
  },
  {
   "cell_type": "markdown",
   "id": "2f60c754",
   "metadata": {},
   "source": [
    "### 変数\n",
    "\n",
    "繰り返し使用したり、後で使いたい数値や文字列などを格納する場合に変数を使用します。\n",
    "標準ライブラリのtype関数を使うとオブジェクトの型を確認できます。"
   ]
  },
  {
   "cell_type": "code",
   "execution_count": 84,
   "id": "555e6032",
   "metadata": {},
   "outputs": [
    {
     "name": "stdout",
     "output_type": "stream",
     "text": [
      "100\n",
      "<class 'int'>\n",
      "100\n",
      "<class 'str'>\n"
     ]
    }
   ],
   "source": [
    "# 数値を格納した変数\n",
    "n = 100\n",
    "print(n)\n",
    "print(type(n))\n",
    "\n",
    "# 文字列を格納した変数\n",
    "s = '100'\n",
    "print(s)\n",
    "print(type(s))"
   ]
  },
  {
   "cell_type": "markdown",
   "id": "23f9fec4",
   "metadata": {},
   "source": [
    "### オブジェクト\n",
    "\n",
    "データは全てオブジェクトとして表されます。\n",
    "標準ライブラリのtype関数を使うとオブジェクトの型を確認できます。"
   ]
  },
  {
   "cell_type": "code",
   "execution_count": 11,
   "id": "ef8b7fc5",
   "metadata": {},
   "outputs": [
    {
     "name": "stdout",
     "output_type": "stream",
     "text": [
      "<class 'list'>\n",
      "<class 'int'>\n",
      "<class 'str'>\n"
     ]
    }
   ],
   "source": [
    "# リストの型\n",
    "print(type([1, 2, 3]))\n",
    "# 整数の型\n",
    "print(type(100))\n",
    "# 文字列の型\n",
    "print(type(\"文字列\"))"
   ]
  },
  {
   "cell_type": "markdown",
   "id": "db5c32de",
   "metadata": {},
   "source": [
    "### 主な演算子（算術演算子（四則演算など）、比較演算子、論理演算子）\n",
    "\n",
    "- 算術演算子\n",
    "\n",
    "|演算子|例|説明|\n",
    "|-|-|-|\n",
    "|\\+|a + b|足し算|\n",
    "|\\-|a - b|引き算|\n",
    "|\\*|a * b|掛け算|\n",
    "|\\*\\*|a ** n|aをn回掛けた数（べき乗）|\n",
    "|\\/|a / b|割り算|\n",
    "|\\/\\/|a // b|aをbで割った商の整数値|\n",
    "|\\%|a % b|aをbで割った時の割り切れなかった余り|\n",
    "\n",
    "- 比較演算子\n",
    "\n",
    "|演算子|例|説明|\n",
    "|-|-|-|\n",
    "|\\<|a < b|左の値が右の値より小さい時に、真|\n",
    "|\\>|a > b|左の値が右の値より大きい時に、真|\n",
    "|\\<=|a <= b|左の値が右の値以下の時に、真|\n",
    "|\\>=|a >= b|左の値が右の値以上の時に、真|\n",
    "|\\=\\=|a == b|2つの値がイコールの時に、真|\n",
    "|\\!\\=|a != b|2つの値がイコールでない時に、真|\n",
    "\n",
    "- 論理演算子\n",
    "\n",
    "|演算子|例|説明|\n",
    "|-|-|-|\n",
    "|and|a and b|aとbを両方満たす時に、真|\n",
    "|or|a or b|aまたはbを満たす時に、真|\n",
    "|not|not a|aを満たさない時に、真|"
   ]
  },
  {
   "cell_type": "code",
   "execution_count": 99,
   "id": "47b6c908",
   "metadata": {},
   "outputs": [
    {
     "name": "stdout",
     "output_type": "stream",
     "text": [
      "１＋２は？ 3\n",
      "２の１６乗は？ 65536\n",
      "aはbより小さい？ True\n",
      "aはbに等しい？ False\n",
      "aはbより大きい？ False\n",
      "aは100 または bは100？ True\n",
      "aは100 かつ bは100？ False\n"
     ]
    }
   ],
   "source": [
    "# 算術演算子の使用例\n",
    "\n",
    "# 足し算\n",
    "print(\"１＋２は？\",1 + 2)\n",
    "# 2の16乗\n",
    "print(\"２の１６乗は？\",2 ** 16)\n",
    "\n",
    "# 比較演算子の使用例\n",
    "a = 100\n",
    "b = 200\n",
    "print(\"aはbより小さい？\", a < b)\n",
    "print(\"aはbに等しい？\",a == b)\n",
    "print(\"aはbより大きい？\",a > b)\n",
    "\n",
    "# 論理演算子の使用例\n",
    "print(\"aは100 または bは100？\", a == 100 or b == 100)\n",
    "print(\"aは100 かつ bは100？\", a == 100 and b == 100)"
   ]
  },
  {
   "cell_type": "markdown",
   "id": "405c9e70",
   "metadata": {},
   "source": [
    "### データ構造（リスト、スライス、辞書）\n",
    "\n",
    "以下のデータを例に説明します。\n",
    "- 札幌市の区名と人口（令和2年9月）\n",
    "\n",
    "|区名|人口|\n",
    "|-|-|\n",
    "|中央区|247434|\n",
    "|北区|288226|\n",
    "|東区|264664|\n",
    "|白石区|212795|\n",
    "|厚別区|125122|\n",
    "|豊平区|224422|\n",
    "|清田区|113555|\n",
    "|南区|136417|\n",
    "|西区|219023|\n",
    "|手稲区|141774|\n",
    "\n"
   ]
  },
  {
   "cell_type": "markdown",
   "id": "517bb796",
   "metadata": {},
   "source": [
    "- リスト\n",
    "\n",
    "リストとは複数のデータを一括で扱うための仕組みです。\n",
    "\n"
   ]
  },
  {
   "cell_type": "code",
   "execution_count": 2,
   "id": "581b2d51",
   "metadata": {},
   "outputs": [
    {
     "name": "stdout",
     "output_type": "stream",
     "text": [
      "['中央区', '北区', '東区', '白石区', '厚別区', '豊平区', '清田区', '南区', '西区', '手稲区']\n"
     ]
    }
   ],
   "source": [
    "# 要素を指定したリスト（札幌市の区名）を作成する例\n",
    "sapporo_wards = [\"中央区\", \"北区\", \"東区\", \"白石区\", \"厚別区\", \"豊平区\", \"清田区\", \"南区\", \"西区\", \"手稲区\"]\n",
    "print(sapporo_wards)"
   ]
  },
  {
   "cell_type": "code",
   "execution_count": 5,
   "id": "5c9e7052",
   "metadata": {},
   "outputs": [
    {
     "name": "stdout",
     "output_type": "stream",
     "text": [
      "[0, 1, 2, 3, 4, 5, 6, 7, 8, 9]\n"
     ]
    }
   ],
   "source": [
    "# 遠し番号を生成するrange関数と組み合わせてリストを作成する例\n",
    "nums = list(range(10))\n",
    "print(nums)"
   ]
  },
  {
   "cell_type": "code",
   "execution_count": 4,
   "id": "4127d3cb",
   "metadata": {},
   "outputs": [
    {
     "name": "stdout",
     "output_type": "stream",
     "text": [
      "中央区\n",
      "北区\n",
      "東区\n"
     ]
    }
   ],
   "source": [
    "# インデックスを指定してリストの要素にアクセスできます。\n",
    "# リストのインデックスは0から始まります\n",
    "print(sapporo_wards[0])\n",
    "print(sapporo_wards[1])\n",
    "print(sapporo_wards[2])"
   ]
  },
  {
   "cell_type": "markdown",
   "id": "3c98e595",
   "metadata": {},
   "source": [
    "- スライス\n",
    "\n",
    "スライスは、リストの一部を取り出すことです。\n",
    "リストの添え字に「開始位置:終了位置」を指定すると、リストの一部を取り出すことができます。\n",
    "開始位置は0から始まります。\n",
    "<span style=\"color: red; \">終了位置の要素は含まれません。</span>"
   ]
  },
  {
   "cell_type": "code",
   "execution_count": 12,
   "id": "a4bec25b",
   "metadata": {},
   "outputs": [
    {
     "name": "stdout",
     "output_type": "stream",
     "text": [
      "['中央区', '北区', '東区']\n"
     ]
    }
   ],
   "source": [
    "# 先頭から３番目までの要素を取り出します。\n",
    "print(sapporo_wards[0:3])"
   ]
  },
  {
   "cell_type": "code",
   "execution_count": 11,
   "id": "2534a491",
   "metadata": {},
   "outputs": [
    {
     "name": "stdout",
     "output_type": "stream",
     "text": [
      "['中央区', '北区', '東区', '白石区', '厚別区']\n"
     ]
    }
   ],
   "source": [
    "# 開始位置を省略すると先頭から取り出します。\n",
    "print(sapporo_wards[:5])"
   ]
  },
  {
   "cell_type": "code",
   "execution_count": 10,
   "id": "002cd559",
   "metadata": {
    "scrolled": true
   },
   "outputs": [
    {
     "name": "stdout",
     "output_type": "stream",
     "text": [
      "['豊平区', '清田区', '南区', '西区', '手稲区']\n"
     ]
    }
   ],
   "source": [
    "# 終了位置を省略すると最後まで取り出します。\n",
    "print(sapporo_wards[5:])"
   ]
  },
  {
   "cell_type": "markdown",
   "id": "42bb2491",
   "metadata": {},
   "source": [
    "- 辞書\n",
    "\n",
    "辞書は、キーと値のペアでデータを管理する仕組みです。"
   ]
  },
  {
   "cell_type": "code",
   "execution_count": 14,
   "id": "c7f931c7",
   "metadata": {},
   "outputs": [
    {
     "name": "stdout",
     "output_type": "stream",
     "text": [
      "{'中央区': 247434, '北区': 288226, '東区': 264664, '白石区': 212795, '厚別区': 125122, '豊平区': 224422, '清田区': 113555, '南区': 136417, '西区': 219023, '手稲区': 141774}\n"
     ]
    }
   ],
   "source": [
    "# 札幌市の区名と人口\n",
    "sapporo_ward_populations = {\"中央区\":247434, \"北区\":288226, \"東区\":264664, \"白石区\":212795, \"厚別区\":125122, \"豊平区\":224422, \"清田区\":113555, \"南区\":136417, \"西区\":219023, \"手稲区\":141774}\n",
    "print(sapporo_ward_populations)"
   ]
  },
  {
   "cell_type": "code",
   "execution_count": 15,
   "id": "7c7cfba0",
   "metadata": {},
   "outputs": [
    {
     "name": "stdout",
     "output_type": "stream",
     "text": [
      "247434\n",
      "224422\n",
      "141774\n"
     ]
    }
   ],
   "source": [
    "# 区名を指定して人口にアクセスできます。\n",
    "print(sapporo_ward_populations[\"中央区\"])\n",
    "print(sapporo_ward_populations[\"豊平区\"])\n",
    "print(sapporo_ward_populations[\"手稲区\"])"
   ]
  },
  {
   "cell_type": "code",
   "execution_count": 19,
   "id": "43e505f7",
   "metadata": {},
   "outputs": [
    {
     "ename": "KeyError",
     "evalue": "'新宿区'",
     "output_type": "error",
     "traceback": [
      "\u001b[1;31m---------------------------------------------------------------------------\u001b[0m",
      "\u001b[1;31mKeyError\u001b[0m                                  Traceback (most recent call last)",
      "Input \u001b[1;32mIn [19]\u001b[0m, in \u001b[0;36m<module>\u001b[1;34m\u001b[0m\n\u001b[0;32m      1\u001b[0m \u001b[38;5;66;03m# 存在しない区名は指定できません\u001b[39;00m\n\u001b[1;32m----> 2\u001b[0m \u001b[38;5;28mprint\u001b[39m(\u001b[43msapporo_ward_populations\u001b[49m\u001b[43m[\u001b[49m\u001b[38;5;124;43m\"\u001b[39;49m\u001b[38;5;124;43m新宿区\u001b[39;49m\u001b[38;5;124;43m\"\u001b[39;49m\u001b[43m]\u001b[49m)\n",
      "\u001b[1;31mKeyError\u001b[0m: '新宿区'"
     ]
    }
   ],
   "source": [
    "# 存在しない区名は指定できません\n",
    "print(sapporo_ward_populations[\"新宿区\"])"
   ]
  },
  {
   "cell_type": "markdown",
   "id": "4fa89a84",
   "metadata": {},
   "source": [
    "### 制御構造\n",
    "\n",
    "- ブロック\n",
    "\n",
    "Pythonでは制御構文のブロックは、インデント（字下げ）で決まります。\n",
    "C言語やJavaでは「｛」から「｝」までがブロックと認識されますが、Pythonでは同じ字下げをブロックとして認識します。\n",
    "\n",
    "<pre>\n",
    "// Javaの例\n",
    "int n = 100;\n",
    "if ((n % 2) == 0) {\n",
    "    System.out.println(\"偶数です\");\n",
    "    System.out.println(\"偶数ではない\");\n",
    "} else {\n",
    "    System.out.println(\"偶数です\");\n",
    "    System.out.println(\"奇数ではない\");\n",
    "}\n",
    "</pre>\n",
    "\n",
    "<pre>\n",
    "// Pythonの例\n",
    "n = 100\n",
    "if (n % 2) == 0:\n",
    "    print(\"偶数です\")\n",
    "    print(\"奇数ではない\")\n",
    "else:\n",
    "    print(\"奇数です\")\n",
    "    print(\"偶数ではない\")\n",
    "</pre>\n",
    "\n"
   ]
  },
  {
   "cell_type": "code",
   "execution_count": 46,
   "id": "0043238f",
   "metadata": {},
   "outputs": [
    {
     "ename": "IndentationError",
     "evalue": "unexpected indent (1696981422.py, line 6)",
     "output_type": "error",
     "traceback": [
      "\u001b[1;36m  Input \u001b[1;32mIn [46]\u001b[1;36m\u001b[0m\n\u001b[1;33m    print(\"奇数ではない\")\u001b[0m\n\u001b[1;37m    ^\u001b[0m\n\u001b[1;31mIndentationError\u001b[0m\u001b[1;31m:\u001b[0m unexpected indent\n"
     ]
    }
   ],
   "source": [
    "# インデント（字下げ）が揃っていないとエラーになります\n",
    "\n",
    "n = 100\n",
    "if (n % 2) == 0:\n",
    "    print(\"偶数です\")\n",
    "     print(\"奇数ではない\")\n",
    "else:\n",
    "    print(\"奇数です\")\n",
    "    print(\"偶数ではない\")"
   ]
  },
  {
   "cell_type": "markdown",
   "id": "5adddf17",
   "metadata": {},
   "source": [
    "- for文\n",
    "\n",
    "for文は一定の回数分（リストの要素数分、１０回など）繰り返す構文です。"
   ]
  },
  {
   "cell_type": "code",
   "execution_count": 31,
   "id": "8833af1f",
   "metadata": {},
   "outputs": [
    {
     "name": "stdout",
     "output_type": "stream",
     "text": [
      "中央区\n",
      "北区\n",
      "東区\n",
      "白石区\n",
      "厚別区\n",
      "豊平区\n",
      "清田区\n",
      "南区\n",
      "西区\n",
      "手稲区\n"
     ]
    }
   ],
   "source": [
    "# リストの要素を全て表示\n",
    "for ward_name in sapporo_wards:\n",
    "    print(ward_name)   "
   ]
  },
  {
   "cell_type": "code",
   "execution_count": 32,
   "id": "12a5a995",
   "metadata": {},
   "outputs": [
    {
     "name": "stdout",
     "output_type": "stream",
     "text": [
      "中央区\n",
      "北区\n",
      "東区\n",
      "白石区\n",
      "厚別区\n"
     ]
    }
   ],
   "source": [
    "# リストの要素を５番目まで表示\n",
    "for n in range(5):\n",
    "    print(sapporo_wards[n])   "
   ]
  },
  {
   "cell_type": "markdown",
   "id": "1e181cd0",
   "metadata": {},
   "source": [
    "- if文\n",
    "\n",
    "if文は、条件が成立する場合（または成立しない場合）にブロックを実行する構文です。\n"
   ]
  },
  {
   "cell_type": "code",
   "execution_count": 51,
   "id": "bb3e1f0b",
   "metadata": {},
   "outputs": [
    {
     "name": "stdout",
     "output_type": "stream",
     "text": [
      "厚別区 125122\n",
      "清田区 113555\n",
      "南区 136417\n",
      "手稲区 141774\n"
     ]
    }
   ],
   "source": [
    "# 人口20万人未満の区名と人口を表示します\n",
    "# 辞書をfor文に指定すると、キーが取得できます\n",
    "\n",
    "for ward in sapporo_ward_populations:\n",
    "    if (sapporo_ward_populations[ward] < 200000):\n",
    "        print(ward, sapporo_ward_populations[ward])"
   ]
  },
  {
   "cell_type": "code",
   "execution_count": 52,
   "id": "7b1b2aa4",
   "metadata": {},
   "outputs": [
    {
     "name": "stdout",
     "output_type": "stream",
     "text": [
      "中央区 247434\n"
     ]
    }
   ],
   "source": [
    "# 中央区の人口を表示します。\n",
    "\n",
    "for key in sapporo_ward_populations:\n",
    "    if (key == \"中央区\"):\n",
    "        print(key, sapporo_ward_populations[key])\n"
   ]
  },
  {
   "cell_type": "code",
   "execution_count": 53,
   "id": "1bee78a7",
   "metadata": {},
   "outputs": [
    {
     "name": "stdout",
     "output_type": "stream",
     "text": [
      "北区 288226\n",
      "東区 264664\n",
      "白石区 212795\n",
      "厚別区 125122\n",
      "豊平区 224422\n",
      "清田区 113555\n",
      "南区 136417\n",
      "西区 219023\n",
      "手稲区 141774\n"
     ]
    }
   ],
   "source": [
    "# 中央区以外の人口を表示します。\n",
    "\n",
    "for key in sapporo_ward_populations:\n",
    "    if (key != \"中央区\"):\n",
    "        print(key, sapporo_ward_populations[key])"
   ]
  },
  {
   "cell_type": "code",
   "execution_count": 54,
   "id": "9025e20c",
   "metadata": {},
   "outputs": [
    {
     "name": "stdout",
     "output_type": "stream",
     "text": [
      "中央区 247434\n",
      "南区 136417\n"
     ]
    }
   ],
   "source": [
    "# 中央区または南区の人口を表示します。\n",
    "\n",
    "for key in sapporo_ward_populations:\n",
    "    if (key == \"中央区\" or key == \"南区\"):\n",
    "        print(key, sapporo_ward_populations[key])"
   ]
  },
  {
   "cell_type": "markdown",
   "id": "6a4bc5c7",
   "metadata": {},
   "source": [
    "Python では演算子に優先順位が定義されています。\n",
    "- 算術演算は比較演算よりも優先\n",
    "- 比較演算は論理演算よりも優先\n",
    "- かっこ「()」で囲むとより優先される\n"
   ]
  },
  {
   "cell_type": "code",
   "execution_count": 55,
   "id": "8c65f217",
   "metadata": {},
   "outputs": [
    {
     "name": "stdout",
     "output_type": "stream",
     "text": [
      "北区 288226\n",
      "東区 264664\n",
      "南区 136417\n",
      "西区 219023\n"
     ]
    }
   ],
   "source": [
    "# 東、西、南、北区で人口20万人以上を表示します。\n",
    "\n",
    "for key in sapporo_ward_populations:\n",
    "    if (key == \"東区\" or key == \"西区\" or key == \"南区\" or key == \"北区\" and sapporo_ward_populations[key] > 200000):\n",
    "        print(key, sapporo_ward_populations[key])"
   ]
  },
  {
   "cell_type": "markdown",
   "id": "b7ba9a84",
   "metadata": {},
   "source": [
    "南区は表示されないはずですが、andはorより優先されるため南区も表示されました。\n",
    "or条件をand条件より優先させるため、かっこで囲みました。"
   ]
  },
  {
   "cell_type": "code",
   "execution_count": 56,
   "id": "96f16378",
   "metadata": {
    "scrolled": true
   },
   "outputs": [
    {
     "name": "stdout",
     "output_type": "stream",
     "text": [
      "北区 288226\n",
      "東区 264664\n",
      "西区 219023\n"
     ]
    }
   ],
   "source": [
    "# 東、西、南、北区で人口20万人以上を表示します。\n",
    "\n",
    "for key in sapporo_ward_populations:\n",
    "    if ((key == \"東区\" or key == \"西区\" or key == \"南区\" or key == \"北区\") and sapporo_ward_populations[key] > 200000):\n",
    "        print(key, sapporo_ward_populations[key])"
   ]
  },
  {
   "cell_type": "code",
   "execution_count": 57,
   "id": "12ce529b",
   "metadata": {},
   "outputs": [
    {
     "name": "stdout",
     "output_type": "stream",
     "text": [
      "北区 288226\n"
     ]
    }
   ],
   "source": [
    "# もっとも人口の多い区を表示します。\n",
    "\n",
    "ward_name = \"\"\n",
    "ward_population = 0\n",
    "\n",
    "for key in sapporo_ward_populations:\n",
    "    if ward_population < sapporo_ward_populations[key]:\n",
    "        # 人口が多かったら区名と人口を変数に代入\n",
    "        ward_name = key\n",
    "        ward_population = sapporo_ward_populations[key]\n",
    "\n",
    "print(ward_name, ward_population)"
   ]
  },
  {
   "cell_type": "markdown",
   "id": "961e15d7",
   "metadata": {},
   "source": [
    "### 関数\n",
    "まとまった処理を関数として定義できます。\n",
    "何回も呼び出す処理を関数にしておくと、同じ処理を何度も記述しないで済みます。\n",
    "関数を利用者は関数の呼び出し方を知っていればよく、関数内部でどのような処理を行っているのか知らずにすみます（カプセル化）。\n",
    "\n",
    "関数を定義するには「def」キーワードを使用します。\n",
    "関数には、引数（関数に渡すパラメータ）と戻り値（関数の処理結果）を定義することができます。\n",
    "引数や戻り値のない関数も定義することができます。\n",
    "\n",
    "以下は、引数として半径(r)を指定して、戻り値として円の面積(ar)を返す関数の例です。\n"
   ]
  },
  {
   "cell_type": "code",
   "execution_count": 31,
   "id": "ae5a3dfd",
   "metadata": {},
   "outputs": [],
   "source": [
    "# 半径を指定して円の面積を求める\n",
    "def AreaOfCircle(r):\n",
    "    ar = r * r * 3.14\n",
    "    return ar\n"
   ]
  },
  {
   "cell_type": "markdown",
   "id": "1a3b40ae",
   "metadata": {},
   "source": [
    "円の面積を求める関数を呼び出して戻り値を変数に代入後に表示します。\n",
    "利用者は円の面積を計算する公式を知らなくても問題ありません。\n"
   ]
  },
  {
   "cell_type": "code",
   "execution_count": 32,
   "id": "dc8292d7",
   "metadata": {},
   "outputs": [
    {
     "name": "stdout",
     "output_type": "stream",
     "text": [
      "半径5の円の面積:  78.5\n"
     ]
    }
   ],
   "source": [
    "area_circle = AreaOfCircle(5)\n",
    "print(\"半径5の円の面積: \", area_circle)\n"
   ]
  }
 ],
 "metadata": {
  "kernelspec": {
   "display_name": "Python 3 (ipykernel)",
   "language": "python",
   "name": "python3"
  },
  "language_info": {
   "codemirror_mode": {
    "name": "ipython",
    "version": 3
   },
   "file_extension": ".py",
   "mimetype": "text/x-python",
   "name": "python",
   "nbconvert_exporter": "python",
   "pygments_lexer": "ipython3",
   "version": "3.9.4"
  }
 },
 "nbformat": 4,
 "nbformat_minor": 5
}
