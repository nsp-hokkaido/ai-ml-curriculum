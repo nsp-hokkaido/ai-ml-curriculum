{
 "cells": [
  {
   "cell_type": "markdown",
   "id": "6580c218",
   "metadata": {},
   "source": [
    "### ■ライブラリを用いた前処理としての基礎学習\n",
    "本章では、「前処理」として主に使用するライブラリ「NumPy」「Pandas」と、<br>\n",
    "データの可視化として使用するライブラリ「matplotlib」「seaborn」の基礎を学習する。<br>\n",
    "<br>\n",
    "１．NumPy<br>\n",
    "　　・Numpyの使用<br>\n",
    "　　・1次元配列の作成<br>\n",
    "　　・2次元配列の作成<br>\n",
    "　　・NumPyの主な型<br>\n",
    "　　・配列のデータ属性<br>\n",
    "　　・配列要素の生成<br>\n",
    "　　・配列要素のスライス<br>\n",
    "２．Pandas<br>\n",
    "　　・Pandasの使用<br>\n",
    "　　・シリーズ(Series)、データフレーム(DataFrame)<br>\n",
    "　　・CSVファイルからの読み込み<br>\n",
    "　　・データの確認<br>\n",
    "　　・データの統計量<br>\n",
    "　　・データの相関係数<br>\n",
    "　　・データの抽出<br>\n",
    "　　・列の追加と削除<br>\n",
    "　　・データのソート<br>\n",
    "　　・データの結合<br>\n",
    "　　・データの連結<br>\n",
    "　　・データのグループ化<br>\n",
    "　　・欠損値の処理<br>\n",
    "３．Matplotlib<br>\n",
    "　　・matoplotlibの使用<br>\n",
    "　　・折れ線グラフ、棒グラフ、散布図、ヒストグラム、箱ひげ図の作成<br>\n",
    "４．seaborn<br>\n",
    "　　・seabornの使用<br>\n",
    "　　・データセットを用いた折れ線グラフ、棒グラフ、散布図、分布付きの散布図、ヒストグラム、箱ひげ図、散布図行列の作成<br>"
   ]
  }
 ],
 "metadata": {
  "kernelspec": {
   "display_name": "Python 3 (ipykernel)",
   "language": "python",
   "name": "python3"
  },
  "language_info": {
   "codemirror_mode": {
    "name": "ipython",
    "version": 3
   },
   "file_extension": ".py",
   "mimetype": "text/x-python",
   "name": "python",
   "nbconvert_exporter": "python",
   "pygments_lexer": "ipython3",
   "version": "3.9.4"
  }
 },
 "nbformat": 4,
 "nbformat_minor": 5
}
