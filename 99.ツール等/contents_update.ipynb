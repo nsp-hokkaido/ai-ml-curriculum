{
 "cells": [
  {
   "cell_type": "code",
   "execution_count": null,
   "id": "490c4e25-3598-46bb-9411-1f5ca0347657",
   "metadata": {},
   "outputs": [],
   "source": [
    "!git fetch origin\n",
    "!git reset --hard origin/main"
   ]
  }
 ],
 "metadata": {
  "kernelspec": {
   "display_name": "Python 3 (ipykernel)",
   "language": "python",
   "name": "python3"
  },
  "language_info": {
   "codemirror_mode": {
    "name": "ipython",
    "version": 3
   },
   "file_extension": ".py",
   "mimetype": "text/x-python",
   "name": "python",
   "nbconvert_exporter": "python",
   "pygments_lexer": "ipython3",
   "version": "3.9.16"
  }
 },
 "nbformat": 4,
 "nbformat_minor": 5
}
